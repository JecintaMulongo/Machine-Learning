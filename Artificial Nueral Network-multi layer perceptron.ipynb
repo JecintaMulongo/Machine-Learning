{
 "cells": [
  {
   "cell_type": "code",
   "execution_count": 1,
   "metadata": {
    "collapsed": false
   },
   "outputs": [],
   "source": [
    "import numpy as np\n",
    "import pandas as pd\n",
    "import matplotlib.pyplot as plt\n",
    "import seaborn as sns\n",
    "import itertools\n",
    "import warnings\n",
    "from sklearn import tree\n",
    "from IPython.display import Image\n",
    "import pydotplus as pydot \n",
    "warnings.filterwarnings(\"ignore\")\n",
    "from sklearn.externals.six import StringIO\n",
    "from sklearn.model_selection import train_test_split\n",
    "from sklearn.preprocessing import StandardScaler\n",
    "from sklearn import metrics\n",
    "from sklearn.neural_network import MLPClassifier\n",
    "from sklearn import preprocessing\n",
    "from sklearn.metrics import roc_auc_score\n",
    "from sklearn.preprocessing import LabelEncoder\n",
    "from numpy import set_printoptions\n",
    "import tensorflow as tf\n",
    "set_printoptions(precision=3)"
   ]
  },
  {
   "cell_type": "code",
   "execution_count": 6,
   "metadata": {
    "collapsed": false
   },
   "outputs": [],
   "source": [
    "Data = pd.read_excel(\"Gen.xlsx\",sheet_name=\"data\").dropna(how = \"any\")\n",
    "Data['Generator 1capacity (KVA)'] = Data['Generator 1capacity (KVA)'].astype(\"category\")\n",
    "Data = Data.dropna(how = 'any')"
   ]
  },
  {
   "cell_type": "code",
   "execution_count": 13,
   "metadata": {
    "collapsed": false
   },
   "outputs": [],
   "source": [
    "Data['consumption_perDay_within_a_period'] = Data['Consumption HIS']/(Data['NBRE DE JOUR'])\n",
    "Data.loc[~np.isfinite(Data['consumption_perDay_within_a_period']), 'consumption_perDay_within_a_period'] = 0\n",
    "Data['Quanitity_consumed_btn_visits'] = Data['QTE FUEL PRECEDENTE'] - Data['QTE FUEL TROUVEE']\n",
    "set_printoptions(precision=3)"
   ]
  },
  {
   "cell_type": "code",
   "execution_count": null,
   "metadata": {
    "collapsed": false
   },
   "outputs": [],
   "source": [
    "Data.drop(['Power Type'],axis=1, inplace=True)\n",
    "Data.drop(['ANCIEN COMPTEUR HORAIRE G1'],axis=1, inplace=True)\n",
    "Data.drop(['Class'],axis=1, inplace=True)\n",
    "Data.drop(['DATE  EFFECTIVE DE LA VISITE'],axis=1, inplace=True)\n",
    "Data.drop(['DATE DE VISITE PRECEDENTE'],axis=1, inplace=True)\n",
    "\n",
    "Data.drop(['Months'],axis=1, inplace=True)\n",
    "Data.drop(['Cluster'],axis=1, inplace=True)\n",
    "Data.drop(['Site Name'],axis=1, inplace=True)\n",
    "Data.drop(['Generator 1capacity (KVA)'],axis=1, inplace=True)\n",
    "\n",
    "Data.drop(['COMPTEUR HORAIRE ACTUEL GE1'],axis=1, inplace=True)\n",
    "Data.drop(['QTE FUEL AJOUTEE'],axis=1, inplace=True)\n"
   ]
  },
  {
   "cell_type": "code",
   "execution_count": 15,
   "metadata": {
    "collapsed": false
   },
   "outputs": [],
   "source": [
    "\n",
    "Data['Running time per day'] = Data[\"NBRE HEURES DE FONCTIONNEMENT DG1\"]/Data[\"NBRE DE JOUR\"]             \n",
    "Data.loc[~np.isfinite(Data['Running time per day']), 'Running time per day'] = 0\n",
    "set_printoptions(precision=3)"
   ]
  },
  {
   "cell_type": "code",
   "execution_count": 16,
   "metadata": {
    "collapsed": false
   },
   "outputs": [],
   "source": [
    "Data['Maximum_consumption_perDay'] = Data[['CONSOMMATION HORAIRE DE FUEL DG1']]*24\n",
    "set_printoptions(precision=3)"
   ]
  },
  {
   "cell_type": "code",
   "execution_count": 17,
   "metadata": {
    "collapsed": true
   },
   "outputs": [],
   "source": [
    "a = list(Data['NBRE HEURES DE FONCTIONNEMENT DG1'])\n",
    "b = list(Data['Quanitity_consumed_btn_visits'])"
   ]
  },
  {
   "cell_type": "code",
   "execution_count": 18,
   "metadata": {
    "collapsed": false
   },
   "outputs": [],
   "source": [
    "c = []\n",
    "for i in range(len(a)):\n",
    "    if a[i] == 0  and  b[i]!=0:\n",
    "        c.append(0)\n",
    "    else:\n",
    "        c.append(1)"
   ]
  },
  {
   "cell_type": "code",
   "execution_count": 19,
   "metadata": {
    "collapsed": false
   },
   "outputs": [],
   "source": [
    "t = list(Data['Maximum_consumption_perDay'])\n",
    "r = list (Data['consumption_perDay_within_a_period'])"
   ]
  },
  {
   "cell_type": "code",
   "execution_count": 20,
   "metadata": {
    "collapsed": false
   },
   "outputs": [],
   "source": [
    "z = []\n",
    "for i in range(len(r)):\n",
    "    if r[i] > t[i]:\n",
    "        z.append(0)\n",
    "    else:\n",
    "        z.append(1)"
   ]
  },
  {
   "cell_type": "code",
   "execution_count": 21,
   "metadata": {
    "collapsed": false
   },
   "outputs": [],
   "source": [
    "p = []\n",
    "for i in range(len(z)):\n",
    "    if c[i]==1 and z[i]==1:\n",
    "        p.append(1)\n",
    "    else:\n",
    "        p.append(0)     "
   ]
  },
  {
   "cell_type": "code",
   "execution_count": 22,
   "metadata": {
    "collapsed": false
   },
   "outputs": [],
   "source": [
    "Data['Class'] = p\n"
   ]
  },
  {
   "cell_type": "markdown",
   "metadata": {
    "collapsed": false
   },
   "source": []
  },
  {
   "cell_type": "code",
   "execution_count": 25,
   "metadata": {
    "collapsed": false
   },
   "outputs": [],
   "source": [
    "Data.drop(['QTE TOTALE LAISSEE'],axis=1, inplace=True)\n",
    "#Data.drop(['Consumption HIS'],axis=1, inplace=True)\n",
    "\n",
    "Data.drop(['QTE FUEL PRECEDENTE'],axis=1, inplace=True)\n",
    "Data.drop(['QTE FUEL TROUVEE'],axis=1, inplace=True)\n",
    "#Data.drop(['NBRE HEURES DE FONCTIONNEMENT DG1'],axis=1, inplace=True)\n",
    "#Data.drop(['CONSOMMATION HORAIRE DE FUEL DG1'],axis=1, inplace=True)\n",
    "Data.drop(['NBRE DE JOUR'],axis=1, inplace=True)\n",
    "Data.drop(['Quanitity_consumed_btn_visits'],axis=1, inplace=True)\n",
    "Data.drop(['Maximum_consumption_perDay'],axis=1, inplace=True)"
   ]
  },
  {
   "cell_type": "code",
   "execution_count": null,
   "metadata": {
    "collapsed": true
   },
   "outputs": [],
   "source": [
    "With this number of varibales consider to determin thr classification prediction."
   ]
  },
  {
   "cell_type": "code",
   "execution_count": 26,
   "metadata": {
    "collapsed": false
   },
   "outputs": [
    {
     "data": {
      "text/plain": [
       "Index(['Consumption HIS', 'NBRE HEURES DE FONCTIONNEMENT DG1',\n",
       "       'CONSOMMATION HORAIRE DE FUEL DG1',\n",
       "       'consumption_perDay_within_a_period', 'Running time per day', 'Class'],\n",
       "      dtype='object')"
      ]
     },
     "execution_count": 26,
     "metadata": {},
     "output_type": "execute_result"
    }
   ],
   "source": [
    "Data.columns"
   ]
  },
  {
   "cell_type": "code",
   "execution_count": 27,
   "metadata": {
    "collapsed": true
   },
   "outputs": [],
   "source": [
    "\n",
    "# FUNCTION TO MAKE PREDICTIONS\n",
    "\n",
    "def predictmodel(model):\n",
    "    y_pred = model.predict(x_test)\n",
    "    f,t,thresholds = metrics.roc_curve(y_test,y_pred)\n",
    "    cm = metrics.confusion_matrix(y_test,y_pred)\n",
    "    \n",
    "    print(\"Score:\", metrics.auc(f,t))\n",
    "    print(\"Classification report:\")\n",
    "    print(metrics.classification_report(y_test,y_pred))\n",
    "    print(\"Confusion Matrix:\")\n",
    "    print(cm)"
   ]
  },
  {
   "cell_type": "code",
   "execution_count": null,
   "metadata": {
    "collapsed": true
   },
   "outputs": [],
   "source": []
  },
  {
   "cell_type": "markdown",
   "metadata": {},
   "source": [
    "With the following i use relu activation function and defult solver and a learning rate adaptives."
   ]
  },
  {
   "cell_type": "code",
   "execution_count": 32,
   "metadata": {
    "collapsed": false
   },
   "outputs": [
    {
     "name": "stdout",
     "output_type": "stream",
     "text": [
      "Score: 0.8578711300732962\n",
      "Classification report:\n",
      "             precision    recall  f1-score   support\n",
      "\n",
      "          0       0.85      0.80      0.82       330\n",
      "          1       0.88      0.92      0.90       554\n",
      "\n",
      "avg / total       0.87      0.87      0.87       884\n",
      "\n",
      "Confusion Matrix:\n",
      "[[263  67]\n",
      " [ 45 509]]\n",
      "(2676, 5)\n",
      "(2676,)\n",
      "(884, 5)\n",
      "(1792, 5)\n",
      "(884,)\n",
      "(1792,)\n"
     ]
    }
   ],
   "source": [
    "x = Data.loc[:,Data.columns.tolist()[0:5]]\n",
    "x = x.as_matrix()\n",
    "Y = Data.loc[:,'Class']\n",
    "Y = Y.as_matrix()\n",
    "x_train,x_test,y_train,y_test = train_test_split(x,Y,test_size=0.33,random_state=2700)\n",
    "scaler = StandardScaler()\n",
    "scaler.fit(x_train)\n",
    "x_train = scaler.transform(x_train)\n",
    "x_test = scaler.transform(x_test) \n",
    "\n",
    "clf = MLPClassifier( activation='relu', beta_1=0.6, beta_2=0.9,alpha = 0.001,early_stopping = True,shuffle = True,warm_start = True,validation_fraction = 0.3,learning_rate_init=0.01, max_iter = 14000, random_state = 2700, learning_rate='adaptive')\n",
    "clf.fit(x_train , y_train)\n",
    "\n",
    "\n",
    "predictmodel(clf)\n",
    "print(x.shape)\n",
    "print(Y.shape)\n",
    "print(x_test.shape)\n",
    "print( x_train.shape)\n",
    "print( y_test.shape)\n",
    "print(y_train.shape)"
   ]
  },
  {
   "cell_type": "code",
   "execution_count": 34,
   "metadata": {
    "collapsed": false
   },
   "outputs": [
    {
     "name": "stdout",
     "output_type": "stream",
     "text": [
      "Overall AUC: 0.8578711300732962\n"
     ]
    }
   ],
   "source": [
    "y_pred= clf.predict(x_test)\n",
    "print('Overall AUC:', roc_auc_score(y_test, clf.predict(x_test)))\n",
    "\n",
    "submission = pd.DataFrame({\"Original\":y_test,\"predicted\":y_pred})"
   ]
  },
  {
   "cell_type": "code",
   "execution_count": 35,
   "metadata": {
    "collapsed": false
   },
   "outputs": [
    {
     "data": {
      "text/html": [
       "<div>\n",
       "<style scoped>\n",
       "    .dataframe tbody tr th:only-of-type {\n",
       "        vertical-align: middle;\n",
       "    }\n",
       "\n",
       "    .dataframe tbody tr th {\n",
       "        vertical-align: top;\n",
       "    }\n",
       "\n",
       "    .dataframe thead th {\n",
       "        text-align: right;\n",
       "    }\n",
       "</style>\n",
       "<table border=\"1\" class=\"dataframe\">\n",
       "  <thead>\n",
       "    <tr style=\"text-align: right;\">\n",
       "      <th></th>\n",
       "      <th>Original</th>\n",
       "      <th>predicted</th>\n",
       "    </tr>\n",
       "  </thead>\n",
       "  <tbody>\n",
       "    <tr>\n",
       "      <th>0</th>\n",
       "      <td>1</td>\n",
       "      <td>1</td>\n",
       "    </tr>\n",
       "    <tr>\n",
       "      <th>1</th>\n",
       "      <td>1</td>\n",
       "      <td>0</td>\n",
       "    </tr>\n",
       "    <tr>\n",
       "      <th>2</th>\n",
       "      <td>1</td>\n",
       "      <td>1</td>\n",
       "    </tr>\n",
       "    <tr>\n",
       "      <th>3</th>\n",
       "      <td>1</td>\n",
       "      <td>1</td>\n",
       "    </tr>\n",
       "    <tr>\n",
       "      <th>4</th>\n",
       "      <td>1</td>\n",
       "      <td>1</td>\n",
       "    </tr>\n",
       "  </tbody>\n",
       "</table>\n",
       "</div>"
      ],
      "text/plain": [
       "   Original  predicted\n",
       "0         1          1\n",
       "1         1          0\n",
       "2         1          1\n",
       "3         1          1\n",
       "4         1          1"
      ]
     },
     "execution_count": 35,
     "metadata": {},
     "output_type": "execute_result"
    }
   ],
   "source": [
    "submission.head()"
   ]
  },
  {
   "cell_type": "code",
   "execution_count": null,
   "metadata": {
    "collapsed": false
   },
   "outputs": [],
   "source": []
  },
  {
   "cell_type": "code",
   "execution_count": null,
   "metadata": {
    "collapsed": false
   },
   "outputs": [],
   "source": []
  },
  {
   "cell_type": "code",
   "execution_count": null,
   "metadata": {
    "collapsed": false
   },
   "outputs": [],
   "source": []
  },
  {
   "cell_type": "code",
   "execution_count": null,
   "metadata": {
    "collapsed": false
   },
   "outputs": [],
   "source": []
  },
  {
   "cell_type": "code",
   "execution_count": null,
   "metadata": {
    "collapsed": false
   },
   "outputs": [],
   "source": [
    "\n"
   ]
  },
  {
   "cell_type": "code",
   "execution_count": null,
   "metadata": {
    "collapsed": false
   },
   "outputs": [],
   "source": []
  },
  {
   "cell_type": "code",
   "execution_count": null,
   "metadata": {
    "collapsed": false
   },
   "outputs": [],
   "source": []
  },
  {
   "cell_type": "code",
   "execution_count": null,
   "metadata": {
    "collapsed": false
   },
   "outputs": [],
   "source": []
  },
  {
   "cell_type": "code",
   "execution_count": null,
   "metadata": {
    "collapsed": true
   },
   "outputs": [],
   "source": []
  },
  {
   "cell_type": "code",
   "execution_count": null,
   "metadata": {
    "collapsed": false
   },
   "outputs": [],
   "source": []
  },
  {
   "cell_type": "code",
   "execution_count": null,
   "metadata": {
    "collapsed": false
   },
   "outputs": [],
   "source": []
  },
  {
   "cell_type": "code",
   "execution_count": null,
   "metadata": {
    "collapsed": true
   },
   "outputs": [],
   "source": []
  },
  {
   "cell_type": "code",
   "execution_count": null,
   "metadata": {
    "collapsed": false
   },
   "outputs": [],
   "source": []
  },
  {
   "cell_type": "code",
   "execution_count": null,
   "metadata": {
    "collapsed": false
   },
   "outputs": [],
   "source": []
  }
 ],
 "metadata": {
  "kernelspec": {
   "display_name": "Python 3",
   "language": "python",
   "name": "python3"
  },
  "language_info": {
   "codemirror_mode": {
    "name": "ipython",
    "version": 3
   },
   "file_extension": ".py",
   "mimetype": "text/x-python",
   "name": "python",
   "nbconvert_exporter": "python",
   "pygments_lexer": "ipython3",
   "version": "3.5.3"
  }
 },
 "nbformat": 4,
 "nbformat_minor": 2
}
