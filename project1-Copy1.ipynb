{
 "cells": [
  {
   "cell_type": "markdown",
   "metadata": {},
   "source": [
    " The project aims to identify the abnormal consumption in the data. There are a number of scenerios where i identify abnomality,this include the running time of the generator that is more than 24hours in one day, There is an indication that the fuel is being consumed and the running time is zero and lastlly the consumption per day exceed the maximu it can consume in one day. These are sme of the cases i used to generate my target to classify the sample is fraud or not. "
   ]
  },
  {
   "cell_type": "code",
   "execution_count": 1,
   "metadata": {
    "collapsed": false
   },
   "outputs": [],
   "source": [
    "import numpy as np\n",
    "import os\n",
    "from sklearn import tree\n",
    "import pandas as pd\n",
    "from sklearn.model_selection import train_test_split\n",
    "%matplotlib inline\n",
    "import matplotlib.pyplot as plt\n",
    "from sklearn import svm\n",
    "from sklearn.preprocessing import LabelEncoder\n",
    "from sklearn.model_selection import KFold\n",
    "from sklearn.ensemble import RandomForestRegressor\n",
    "from sklearn.tree import DecisionTreeClassifier\n",
    "from pandas.tools.plotting import scatter_matrix\n",
    "from numpy import set_printoptions\n",
    "from sklearn import preprocessing\n",
    "from sklearn.preprocessing import StandardScaler\n",
    "from sklearn.preprocessing import MinMaxScaler\n",
    "import seaborn as sns \n",
    "import pydotplus as pydot \n",
    "from IPython.display import Image\n",
    "from sklearn.externals.six import StringIO\n",
    "from sklearn import metrics\n",
    "from sklearn.model_selection import cross_val_score\n",
    "from pandas import set_option\n",
    "from sklearn.model_selection import KFold\n",
    "from sklearn.model_selection import cross_val_score\n",
    "from sklearn.linear_model import LogisticRegression\n",
    "from sklearn.metrics import confusion_matrix,precision_recall_curve,auc,roc_auc_score,roc_curve,recall_score,classification_report "
   ]
  },
  {
   "cell_type": "code",
   "execution_count": 2,
   "metadata": {
    "collapsed": false
   },
   "outputs": [],
   "source": [
    "Data = pd.read_excel(\"Gen.xlsx\",sheet_name=\"data\").dropna(how = \"any\")\n",
    "Data['Generator 1capacity (KVA)'] = Data['Generator 1capacity (KVA)'].astype(\"category\")\n",
    "Data = Data.dropna(how = 'any')"
   ]
  },
  {
   "cell_type": "markdown",
   "metadata": {},
   "source": [
    "Quantity consumed  between visit is  difference between the fuel found in the generator and previously left in the generator.\n"
   ]
  },
  {
   "cell_type": "markdown",
   "metadata": {},
   "source": [
    "Consumption_perDay_within_a_period is the total fuel consumed between the period divided by number of day between the period. "
   ]
  },
  {
   "cell_type": "code",
   "execution_count": 3,
   "metadata": {
    "collapsed": false
   },
   "outputs": [],
   "source": [
    "Data['consumption_perDay_within_a_period'] = Data['Consumption HIS']/(Data['NBRE DE JOUR'])\n",
    "Data.loc[~np.isfinite(Data['consumption_perDay_within_a_period']), 'consumption_perDay_within_a_period'] = 0\n",
    "Data['Quanitity_consumed_btn_visits'] = Data['QTE FUEL PRECEDENTE'] - Data['QTE FUEL TROUVEE']"
   ]
  },
  {
   "cell_type": "code",
   "execution_count": 4,
   "metadata": {
    "collapsed": false
   },
   "outputs": [],
   "source": [
    "Data.drop(['Power Type'],axis=1, inplace=True)\n",
    "Data.drop(['ANCIEN COMPTEUR HORAIRE G1'],axis=1, inplace=True)\n",
    "Data.drop(['Class'],axis=1, inplace=True)\n",
    "Data.drop(['DATE  EFFECTIVE DE LA VISITE'],axis=1, inplace=True)\n",
    "Data.drop(['DATE DE VISITE PRECEDENTE'],axis=1, inplace=True)\n",
    "#Data.drop(['Class'],axis=1, inplace=True)\n",
    "Data.drop(['Months'],axis=1, inplace=True)\n",
    "Data.drop(['Cluster'],axis=1, inplace=True)\n",
    "Data.drop(['Site Name'],axis=1, inplace=True)\n",
    "Data.drop(['Generator 1capacity (KVA)'],axis=1, inplace=True)"
   ]
  },
  {
   "cell_type": "markdown",
   "metadata": {
    "collapsed": false
   },
   "source": [
    "Generate a colunm of running time per day. and identify which exceed 24hours."
   ]
  },
  {
   "cell_type": "code",
   "execution_count": 5,
   "metadata": {
    "collapsed": false
   },
   "outputs": [],
   "source": [
    "\n",
    "Data['Running time per day'] = Data[\"NBRE HEURES DE FONCTIONNEMENT DG1\"]/Data[\"NBRE DE JOUR\"]             \n",
    "Data.loc[~np.isfinite(Data['Running time per day']), 'Running time per day'] = 0"
   ]
  },
  {
   "cell_type": "markdown",
   "metadata": {},
   "source": [
    "Maximum fuel per day the generator can consume in one day"
   ]
  },
  {
   "cell_type": "code",
   "execution_count": 6,
   "metadata": {
    "collapsed": false
   },
   "outputs": [],
   "source": [
    "Data['Maximum_consumption_perDay'] = Data[['CONSOMMATION HORAIRE DE FUEL DG1']]*24"
   ]
  },
  {
   "cell_type": "code",
   "execution_count": 7,
   "metadata": {
    "collapsed": true
   },
   "outputs": [],
   "source": [
    "a = list(Data['NBRE HEURES DE FONCTIONNEMENT DG1'])\n",
    "b = list(Data['Quanitity_consumed_btn_visits'])"
   ]
  },
  {
   "cell_type": "code",
   "execution_count": 8,
   "metadata": {
    "collapsed": false
   },
   "outputs": [],
   "source": [
    "c = []\n",
    "for i in range(len(a)):\n",
    "    if a[i] == 0  and  b[i]!=0:\n",
    "        c.append(-1)\n",
    "    else:\n",
    "        c.append(1)"
   ]
  },
  {
   "cell_type": "code",
   "execution_count": 9,
   "metadata": {
    "collapsed": false
   },
   "outputs": [],
   "source": [
    "x = list(Data['Maximum_consumption_perDay'])\n",
    "y = list (Data['consumption_perDay_within_a_period'])"
   ]
  },
  {
   "cell_type": "code",
   "execution_count": 10,
   "metadata": {
    "collapsed": true
   },
   "outputs": [],
   "source": [
    "z = []\n",
    "for i in range(len(y)):\n",
    "    if y[i] > x[i]:\n",
    "        z.append(-1)\n",
    "    else:\n",
    "        z.append(1)"
   ]
  },
  {
   "cell_type": "code",
   "execution_count": 11,
   "metadata": {
    "collapsed": false
   },
   "outputs": [],
   "source": [
    "p = []\n",
    "for i in range(len(z)):\n",
    "    if c[i]==1 and z[i]==1:\n",
    "        p.append(1)\n",
    "    else:\n",
    "        p.append(-1)     "
   ]
  },
  {
   "cell_type": "markdown",
   "metadata": {},
   "source": [
    "## Class of target varibale where -1 indicates fraud and 1 indicates not fraud."
   ]
  },
  {
   "cell_type": "code",
   "execution_count": 12,
   "metadata": {
    "collapsed": false
   },
   "outputs": [],
   "source": [
    "Data['Class'] = p"
   ]
  },
  {
   "cell_type": "code",
   "execution_count": 13,
   "metadata": {
    "collapsed": false
   },
   "outputs": [
    {
     "data": {
      "text/html": [
       "<div>\n",
       "<style scoped>\n",
       "    .dataframe tbody tr th:only-of-type {\n",
       "        vertical-align: middle;\n",
       "    }\n",
       "\n",
       "    .dataframe tbody tr th {\n",
       "        vertical-align: top;\n",
       "    }\n",
       "\n",
       "    .dataframe thead th {\n",
       "        text-align: right;\n",
       "    }\n",
       "</style>\n",
       "<table border=\"1\" class=\"dataframe\">\n",
       "  <thead>\n",
       "    <tr style=\"text-align: right;\">\n",
       "      <th></th>\n",
       "      <th>NBRE DE JOUR</th>\n",
       "      <th>COMPTEUR HORAIRE ACTUEL GE1</th>\n",
       "      <th>QTE FUEL PRECEDENTE</th>\n",
       "      <th>QTE FUEL TROUVEE</th>\n",
       "      <th>QTE FUEL AJOUTEE</th>\n",
       "      <th>QTE TOTALE LAISSEE</th>\n",
       "      <th>Consumption HIS</th>\n",
       "      <th>NBRE HEURES DE FONCTIONNEMENT DG1</th>\n",
       "      <th>CONSOMMATION HORAIRE DE FUEL DG1</th>\n",
       "      <th>consumption_perDay_within_a_period</th>\n",
       "      <th>Quanitity_consumed_btn_visits</th>\n",
       "      <th>Running time per day</th>\n",
       "      <th>Maximum_consumption_perDay</th>\n",
       "      <th>Class</th>\n",
       "    </tr>\n",
       "  </thead>\n",
       "  <tbody>\n",
       "    <tr>\n",
       "      <th>0</th>\n",
       "      <td>6</td>\n",
       "      <td>21136</td>\n",
       "      <td>461.0</td>\n",
       "      <td>111.0</td>\n",
       "      <td>375.0</td>\n",
       "      <td>486.0</td>\n",
       "      <td>420.0</td>\n",
       "      <td>140.0</td>\n",
       "      <td>3.0</td>\n",
       "      <td>70.0</td>\n",
       "      <td>350.0</td>\n",
       "      <td>23.333333</td>\n",
       "      <td>72.0</td>\n",
       "      <td>1</td>\n",
       "    </tr>\n",
       "    <tr>\n",
       "      <th>1</th>\n",
       "      <td>4</td>\n",
       "      <td>2522</td>\n",
       "      <td>685.0</td>\n",
       "      <td>440.0</td>\n",
       "      <td>0.0</td>\n",
       "      <td>440.0</td>\n",
       "      <td>254.8</td>\n",
       "      <td>98.0</td>\n",
       "      <td>2.6</td>\n",
       "      <td>63.7</td>\n",
       "      <td>245.0</td>\n",
       "      <td>24.500000</td>\n",
       "      <td>62.4</td>\n",
       "      <td>-1</td>\n",
       "    </tr>\n",
       "    <tr>\n",
       "      <th>2</th>\n",
       "      <td>5</td>\n",
       "      <td>13284</td>\n",
       "      <td>495.0</td>\n",
       "      <td>280.0</td>\n",
       "      <td>200.0</td>\n",
       "      <td>480.0</td>\n",
       "      <td>238.0</td>\n",
       "      <td>119.0</td>\n",
       "      <td>2.0</td>\n",
       "      <td>47.6</td>\n",
       "      <td>215.0</td>\n",
       "      <td>23.800000</td>\n",
       "      <td>48.0</td>\n",
       "      <td>1</td>\n",
       "    </tr>\n",
       "    <tr>\n",
       "      <th>3</th>\n",
       "      <td>6</td>\n",
       "      <td>19895</td>\n",
       "      <td>350.0</td>\n",
       "      <td>140.0</td>\n",
       "      <td>300.0</td>\n",
       "      <td>440.0</td>\n",
       "      <td>288.0</td>\n",
       "      <td>144.0</td>\n",
       "      <td>2.0</td>\n",
       "      <td>48.0</td>\n",
       "      <td>210.0</td>\n",
       "      <td>24.000000</td>\n",
       "      <td>48.0</td>\n",
       "      <td>1</td>\n",
       "    </tr>\n",
       "    <tr>\n",
       "      <th>4</th>\n",
       "      <td>5</td>\n",
       "      <td>16191</td>\n",
       "      <td>154.0</td>\n",
       "      <td>2.0</td>\n",
       "      <td>300.0</td>\n",
       "      <td>302.0</td>\n",
       "      <td>148.0</td>\n",
       "      <td>74.0</td>\n",
       "      <td>2.0</td>\n",
       "      <td>29.6</td>\n",
       "      <td>152.0</td>\n",
       "      <td>14.800000</td>\n",
       "      <td>48.0</td>\n",
       "      <td>1</td>\n",
       "    </tr>\n",
       "  </tbody>\n",
       "</table>\n",
       "</div>"
      ],
      "text/plain": [
       "   NBRE DE JOUR  COMPTEUR HORAIRE ACTUEL GE1  QTE FUEL PRECEDENTE  \\\n",
       "0             6                        21136                461.0   \n",
       "1             4                         2522                685.0   \n",
       "2             5                        13284                495.0   \n",
       "3             6                        19895                350.0   \n",
       "4             5                        16191                154.0   \n",
       "\n",
       "   QTE FUEL TROUVEE  QTE FUEL AJOUTEE  QTE TOTALE LAISSEE  Consumption HIS  \\\n",
       "0             111.0             375.0               486.0            420.0   \n",
       "1             440.0               0.0               440.0            254.8   \n",
       "2             280.0             200.0               480.0            238.0   \n",
       "3             140.0             300.0               440.0            288.0   \n",
       "4               2.0             300.0               302.0            148.0   \n",
       "\n",
       "   NBRE HEURES DE FONCTIONNEMENT DG1  CONSOMMATION HORAIRE DE FUEL DG1  \\\n",
       "0                              140.0                               3.0   \n",
       "1                               98.0                               2.6   \n",
       "2                              119.0                               2.0   \n",
       "3                              144.0                               2.0   \n",
       "4                               74.0                               2.0   \n",
       "\n",
       "   consumption_perDay_within_a_period  Quanitity_consumed_btn_visits  \\\n",
       "0                                70.0                          350.0   \n",
       "1                                63.7                          245.0   \n",
       "2                                47.6                          215.0   \n",
       "3                                48.0                          210.0   \n",
       "4                                29.6                          152.0   \n",
       "\n",
       "   Running time per day  Maximum_consumption_perDay  Class  \n",
       "0             23.333333                        72.0      1  \n",
       "1             24.500000                        62.4     -1  \n",
       "2             23.800000                        48.0      1  \n",
       "3             24.000000                        48.0      1  \n",
       "4             14.800000                        48.0      1  "
      ]
     },
     "execution_count": 13,
     "metadata": {},
     "output_type": "execute_result"
    }
   ],
   "source": [
    "Data.head()"
   ]
  },
  {
   "cell_type": "code",
   "execution_count": 14,
   "metadata": {
    "collapsed": false
   },
   "outputs": [
    {
     "name": "stderr",
     "output_type": "stream",
     "text": [
      "/usr/lib/python3/dist-packages/ipykernel/__main__.py:2: FutureWarning: Method .as_matrix will be removed in a future version. Use .values instead.\n",
      "  from ipykernel import kernelapp as app\n",
      "/usr/lib/python3/dist-packages/ipykernel/__main__.py:4: FutureWarning: Method .as_matrix will be removed in a future version. Use .values instead.\n"
     ]
    }
   ],
   "source": [
    "x = Data.loc[:,Data.columns.tolist()[0:13]]\n",
    "w = x.as_matrix()\n",
    "Y = Data.loc[:,'Class']\n",
    "Y = Y.as_matrix()\n",
    "x_train,x_test,y_train,y_test = train_test_split(w,Y,test_size=0.20,random_state=0)\n",
    "scaler = StandardScaler()\n",
    "scaler.fit(x_train)\n",
    "x_train = scaler.transform(x_train)\n",
    "x_test = scaler.transform(x_test) "
   ]
  },
  {
   "cell_type": "markdown",
   "metadata": {},
   "source": [
    "Feature importance fitted using extratreeClaasifier."
   ]
  },
  {
   "cell_type": "code",
   "execution_count": 66,
   "metadata": {
    "collapsed": false
   },
   "outputs": [
    {
     "name": "stdout",
     "output_type": "stream",
     "text": [
      "[ 4.39030254  3.82875027  3.72438075  3.27495779  3.42542562  3.41441485\n",
      "  6.83243347  8.80416758  3.72054849 18.74848828  5.24150498 30.91938322\n",
      "  3.67524215]\n"
     ]
    }
   ],
   "source": [
    "from sklearn.ensemble import ExtraTreesClassifier\n",
    "model = ExtraTreesClassifier(n_estimators=250, random_state=0)\n",
    "model.fit(w, Y)\n",
    "print(model.feature_importances_ *100)\n",
    "\n",
    "importances = model.feature_importances_\n",
    "std = np.std([tree.feature_importances_ for tree in model.estimators_],\n",
    "             axis=0)\n",
    "indices = np.argsort(importances)"
   ]
  },
  {
   "cell_type": "markdown",
   "metadata": {},
   "source": [
    "Comparison of different classification machine learning technique with no parameter tuned."
   ]
  },
  {
   "cell_type": "code",
   "execution_count": 16,
   "metadata": {
    "collapsed": false
   },
   "outputs": [
    {
     "name": "stdout",
     "output_type": "stream",
     "text": [
      " LR : 0.660649 (0.033043)\n",
      " KNN : 0.594894 (0.026310)\n",
      " SVM : 0.633748 (0.026766)\n",
      " MLP : 0.507844 (0.098267)\n"
     ]
    },
    {
     "data": {
      "image/png": "[encoded data removed]",
      "text/plain": [
       "<Figure size 576x396 with 1 Axes>"
      ]
     },
     "metadata": {},
     "output_type": "display_data"
    }
   ],
   "source": [
    "# Compare Algorithms\n",
    "from sklearn.model_selection import KFold\n",
    "from sklearn.model_selection import cross_val_score\n",
    "from sklearn.linear_model import LogisticRegression# Compare Algorithms\n",
    "from sklearn.model_selection import KFold\n",
    "from sklearn.model_selection import cross_val_score\n",
    "from sklearn.linear_model import LogisticRegression\n",
    "from sklearn.neighbors import KNeighborsClassifier\n",
    "from sklearn.neural_network import MLPClassifier\n",
    "from sklearn.svm import SVC\n",
    "\n",
    "models = []\n",
    "models.append(( ' LR ' , LogisticRegression()))\n",
    "models.append(( ' KNN ' , KNeighborsClassifier()))\n",
    "models.append(( ' SVM ' , SVC()))\n",
    "models.append(( ' MLP ' ,  MLPClassifier()))\n",
    "\n",
    "\n",
    "def predictmodel(model):\n",
    "    y_pred = model.predict(x_test)\n",
    "    f,t,thresholds = metrics.roc_curve(y_test,y_pred)\n",
    "    cm = metrics.confusion_matrix(y_test,y_pred)\n",
    "    print(\"Score:\", metrics.auc(f,t))\n",
    "    print(\"Classification report:\")\n",
    "    print(metrics.classification_report(y_test,y_pred))\n",
    "    print(\"Confusion Matrix:\")\n",
    "    print(cm)\n",
    "# evaluate each model in turn\n",
    "results = []\n",
    "names = []\n",
    "scoring = 'accuracy'\n",
    "\n",
    "for name, model in models:\n",
    "    kfold = KFold(n_splits=10, random_state=7)\n",
    "    cv_results = cross_val_score(model,w, Y, cv=kfold, scoring=scoring)\n",
    "    results.append(cv_results)\n",
    "    names.append(name)\n",
    "    msg = \"%s: %f (%f)\" % (name, cv_results.mean(), cv_results.std())\n",
    "    print(msg)\n",
    "\n",
    "    \n",
    "# boxplot algorithm comparison\n",
    "fig = plt.figure()\n",
    "fig.suptitle( ' Algorithm Comparison ' )\n",
    "ax = fig.add_subplot(111)\n",
    "plt.boxplot(results)\n",
    "ax.set_xticklabels(names)\n",
    "plt.show()"
   ]
  },
  {
   "cell_type": "markdown",
   "metadata": {},
   "source": [
    "## Descriptive Statistics\n",
    "Count.\n",
    " Mean.\n",
    " Standard Deviation\n",
    " Minimum Value.\n",
    " 25th Percentile.\n",
    " 50th Percentile (Median).\n",
    " 75th Percentile.\n",
    " Maximum Value."
   ]
  },
  {
   "cell_type": "code",
   "execution_count": 17,
   "metadata": {
    "collapsed": false
   },
   "outputs": [
    {
     "data": {
      "text/html": [
       "<div>\n",
       "<style scoped>\n",
       "    .dataframe tbody tr th:only-of-type {\n",
       "        vertical-align: middle;\n",
       "    }\n",
       "\n",
       "    .dataframe tbody tr th {\n",
       "        vertical-align: top;\n",
       "    }\n",
       "\n",
       "    .dataframe thead th {\n",
       "        text-align: right;\n",
       "    }\n",
       "</style>\n",
       "<table border=\"1\" class=\"dataframe\">\n",
       "  <thead>\n",
       "    <tr style=\"text-align: right;\">\n",
       "      <th></th>\n",
       "      <th>NBRE DE JOUR</th>\n",
       "      <th>COMPTEUR HORAIRE ACTUEL GE1</th>\n",
       "      <th>QTE FUEL PRECEDENTE</th>\n",
       "      <th>QTE FUEL TROUVEE</th>\n",
       "      <th>QTE FUEL AJOUTEE</th>\n",
       "      <th>QTE TOTALE LAISSEE</th>\n",
       "      <th>Consumption HIS</th>\n",
       "      <th>NBRE HEURES DE FONCTIONNEMENT DG1</th>\n",
       "      <th>CONSOMMATION HORAIRE DE FUEL DG1</th>\n",
       "      <th>consumption_perDay_within_a_period</th>\n",
       "      <th>Quanitity_consumed_btn_visits</th>\n",
       "      <th>Running time per day</th>\n",
       "      <th>Maximum_consumption_perDay</th>\n",
       "      <th>Class</th>\n",
       "    </tr>\n",
       "  </thead>\n",
       "  <tbody>\n",
       "    <tr>\n",
       "      <th>count</th>\n",
       "      <td>2676.000000</td>\n",
       "      <td>2676.000000</td>\n",
       "      <td>2676.000000</td>\n",
       "      <td>2676.000000</td>\n",
       "      <td>2676.000000</td>\n",
       "      <td>2676.000000</td>\n",
       "      <td>2676.000000</td>\n",
       "      <td>2676.000000</td>\n",
       "      <td>2676.000000</td>\n",
       "      <td>2676.000000</td>\n",
       "      <td>2676.000000</td>\n",
       "      <td>2676.000000</td>\n",
       "      <td>2676.000000</td>\n",
       "      <td>2676.000000</td>\n",
       "    </tr>\n",
       "    <tr>\n",
       "      <th>mean</th>\n",
       "      <td>7.994395</td>\n",
       "      <td>11857.176383</td>\n",
       "      <td>596.426054</td>\n",
       "      <td>278.530703</td>\n",
       "      <td>320.998505</td>\n",
       "      <td>599.985112</td>\n",
       "      <td>291.114241</td>\n",
       "      <td>163.436472</td>\n",
       "      <td>1.856297</td>\n",
       "      <td>39.205692</td>\n",
       "      <td>317.895351</td>\n",
       "      <td>21.021979</td>\n",
       "      <td>44.551121</td>\n",
       "      <td>0.267564</td>\n",
       "    </tr>\n",
       "    <tr>\n",
       "      <th>std</th>\n",
       "      <td>4.028354</td>\n",
       "      <td>8719.640575</td>\n",
       "      <td>312.877527</td>\n",
       "      <td>261.877123</td>\n",
       "      <td>211.943452</td>\n",
       "      <td>314.194494</td>\n",
       "      <td>181.576590</td>\n",
       "      <td>96.535578</td>\n",
       "      <td>0.581018</td>\n",
       "      <td>19.301517</td>\n",
       "      <td>168.816946</td>\n",
       "      <td>7.689394</td>\n",
       "      <td>13.944423</td>\n",
       "      <td>0.963720</td>\n",
       "    </tr>\n",
       "    <tr>\n",
       "      <th>min</th>\n",
       "      <td>0.000000</td>\n",
       "      <td>0.000000</td>\n",
       "      <td>0.000000</td>\n",
       "      <td>0.000000</td>\n",
       "      <td>0.000000</td>\n",
       "      <td>0.000000</td>\n",
       "      <td>0.000000</td>\n",
       "      <td>0.000000</td>\n",
       "      <td>0.000000</td>\n",
       "      <td>0.000000</td>\n",
       "      <td>0.000000</td>\n",
       "      <td>0.000000</td>\n",
       "      <td>0.000000</td>\n",
       "      <td>-1.000000</td>\n",
       "    </tr>\n",
       "    <tr>\n",
       "      <th>25%</th>\n",
       "      <td>5.000000</td>\n",
       "      <td>4224.500000</td>\n",
       "      <td>410.000000</td>\n",
       "      <td>115.000000</td>\n",
       "      <td>200.000000</td>\n",
       "      <td>415.000000</td>\n",
       "      <td>163.275000</td>\n",
       "      <td>91.000000</td>\n",
       "      <td>1.570000</td>\n",
       "      <td>24.121528</td>\n",
       "      <td>202.000000</td>\n",
       "      <td>22.191667</td>\n",
       "      <td>37.680000</td>\n",
       "      <td>-1.000000</td>\n",
       "    </tr>\n",
       "    <tr>\n",
       "      <th>50%</th>\n",
       "      <td>8.000000</td>\n",
       "      <td>10318.000000</td>\n",
       "      <td>553.000000</td>\n",
       "      <td>215.000000</td>\n",
       "      <td>300.000000</td>\n",
       "      <td>555.000000</td>\n",
       "      <td>266.550000</td>\n",
       "      <td>169.000000</td>\n",
       "      <td>1.900000</td>\n",
       "      <td>41.042857</td>\n",
       "      <td>304.000000</td>\n",
       "      <td>23.818182</td>\n",
       "      <td>45.600000</td>\n",
       "      <td>1.000000</td>\n",
       "    </tr>\n",
       "    <tr>\n",
       "      <th>75%</th>\n",
       "      <td>10.000000</td>\n",
       "      <td>17879.250000</td>\n",
       "      <td>715.000000</td>\n",
       "      <td>366.000000</td>\n",
       "      <td>500.000000</td>\n",
       "      <td>720.000000</td>\n",
       "      <td>416.200000</td>\n",
       "      <td>239.000000</td>\n",
       "      <td>2.400000</td>\n",
       "      <td>54.972955</td>\n",
       "      <td>427.000000</td>\n",
       "      <td>24.142857</td>\n",
       "      <td>57.600000</td>\n",
       "      <td>1.000000</td>\n",
       "    </tr>\n",
       "    <tr>\n",
       "      <th>max</th>\n",
       "      <td>49.000000</td>\n",
       "      <td>39762.000000</td>\n",
       "      <td>2530.000000</td>\n",
       "      <td>2222.000000</td>\n",
       "      <td>1200.000000</td>\n",
       "      <td>2530.000000</td>\n",
       "      <td>1315.600000</td>\n",
       "      <td>816.000000</td>\n",
       "      <td>3.500000</td>\n",
       "      <td>184.800000</td>\n",
       "      <td>1395.000000</td>\n",
       "      <td>96.000000</td>\n",
       "      <td>84.000000</td>\n",
       "      <td>1.000000</td>\n",
       "    </tr>\n",
       "  </tbody>\n",
       "</table>\n",
       "</div>"
      ],
      "text/plain": [
       "       NBRE DE JOUR  COMPTEUR HORAIRE ACTUEL GE1  QTE FUEL PRECEDENTE  \\\n",
       "count   2676.000000                  2676.000000          2676.000000   \n",
       "mean       7.994395                 11857.176383           596.426054   \n",
       "std        4.028354                  8719.640575           312.877527   \n",
       "min        0.000000                     0.000000             0.000000   \n",
       "25%        5.000000                  4224.500000           410.000000   \n",
       "50%        8.000000                 10318.000000           553.000000   \n",
       "75%       10.000000                 17879.250000           715.000000   \n",
       "max       49.000000                 39762.000000          2530.000000   \n",
       "\n",
       "       QTE FUEL TROUVEE  QTE FUEL AJOUTEE  QTE TOTALE LAISSEE  \\\n",
       "count       2676.000000       2676.000000         2676.000000   \n",
       "mean         278.530703        320.998505          599.985112   \n",
       "std          261.877123        211.943452          314.194494   \n",
       "min            0.000000          0.000000            0.000000   \n",
       "25%          115.000000        200.000000          415.000000   \n",
       "50%          215.000000        300.000000          555.000000   \n",
       "75%          366.000000        500.000000          720.000000   \n",
       "max         2222.000000       1200.000000         2530.000000   \n",
       "\n",
       "       Consumption HIS  NBRE HEURES DE FONCTIONNEMENT DG1  \\\n",
       "count      2676.000000                        2676.000000   \n",
       "mean        291.114241                         163.436472   \n",
       "std         181.576590                          96.535578   \n",
       "min           0.000000                           0.000000   \n",
       "25%         163.275000                          91.000000   \n",
       "50%         266.550000                         169.000000   \n",
       "75%         416.200000                         239.000000   \n",
       "max        1315.600000                         816.000000   \n",
       "\n",
       "       CONSOMMATION HORAIRE DE FUEL DG1  consumption_perDay_within_a_period  \\\n",
       "count                       2676.000000                         2676.000000   \n",
       "mean                           1.856297                           39.205692   \n",
       "std                            0.581018                           19.301517   \n",
       "min                            0.000000                            0.000000   \n",
       "25%                            1.570000                           24.121528   \n",
       "50%                            1.900000                           41.042857   \n",
       "75%                            2.400000                           54.972955   \n",
       "max                            3.500000                          184.800000   \n",
       "\n",
       "       Quanitity_consumed_btn_visits  Running time per day  \\\n",
       "count                    2676.000000           2676.000000   \n",
       "mean                      317.895351             21.021979   \n",
       "std                       168.816946              7.689394   \n",
       "min                         0.000000              0.000000   \n",
       "25%                       202.000000             22.191667   \n",
       "50%                       304.000000             23.818182   \n",
       "75%                       427.000000             24.142857   \n",
       "max                      1395.000000             96.000000   \n",
       "\n",
       "       Maximum_consumption_perDay        Class  \n",
       "count                 2676.000000  2676.000000  \n",
       "mean                    44.551121     0.267564  \n",
       "std                     13.944423     0.963720  \n",
       "min                      0.000000    -1.000000  \n",
       "25%                     37.680000    -1.000000  \n",
       "50%                     45.600000     1.000000  \n",
       "75%                     57.600000     1.000000  \n",
       "max                     84.000000     1.000000  "
      ]
     },
     "execution_count": 17,
     "metadata": {},
     "output_type": "execute_result"
    }
   ],
   "source": [
    "Types = Data.dtypes\n",
    "Data.describe()"
   ]
  },
  {
   "cell_type": "markdown",
   "metadata": {
    "collapsed": false
   },
   "source": [
    "## Visualization"
   ]
  },
  {
   "cell_type": "markdown",
   "metadata": {},
   "source": [
    "## Correlations Between Attributes & Skew of Univariate Distributions\n"
   ]
  },
  {
   "cell_type": "code",
   "execution_count": 18,
   "metadata": {
    "collapsed": false
   },
   "outputs": [
    {
     "name": "stdout",
     "output_type": "stream",
     "text": [
      "NBRE DE JOUR                          1.371997\n",
      "COMPTEUR HORAIRE ACTUEL GE1           0.791228\n",
      "QTE FUEL PRECEDENTE                   2.124430\n",
      "QTE FUEL TROUVEE                      2.984417\n",
      "QTE FUEL AJOUTEE                      0.274607\n",
      "QTE TOTALE LAISSEE                    2.167813\n",
      "Consumption HIS                       0.455768\n",
      "NBRE HEURES DE FONCTIONNEMENT DG1     0.424530\n",
      "CONSOMMATION HORAIRE DE FUEL DG1     -0.180701\n",
      "consumption_perDay_within_a_period   -0.055097\n",
      "Quanitity_consumed_btn_visits         0.566607\n",
      "Running time per day                 -1.100828\n",
      "Maximum_consumption_perDay           -0.180701\n",
      "Class                                -0.555687\n",
      "dtype: float64\n"
     ]
    }
   ],
   "source": [
    "Correlation = Data.corr(method = 'pearson')\n",
    "skew = Data.skew()\n",
    "print(skew)"
   ]
  },
  {
   "cell_type": "markdown",
   "metadata": {},
   "source": [
    "## Histograms andDensity plot \n",
    "group data into bins and provide you a count of the number of observations in each bin"
   ]
  },
  {
   "cell_type": "code",
   "execution_count": 41,
   "metadata": {
    "collapsed": false
   },
   "outputs": [
    {
     "name": "stderr",
     "output_type": "stream",
     "text": [
      "/home/aimsadmin/.local/lib/python3.5/site-packages/matplotlib/axes/_axes.py:6462: UserWarning: The 'normed' kwarg is deprecated, and has been replaced by the 'density' kwarg.\n",
      "  warnings.warn(\"The 'normed' kwarg is deprecated, and has been \"\n"
     ]
    },
    {
     "data": {
      "text/plain": [
       "<matplotlib.axes._subplots.AxesSubplot at 0x7f8b99c6fd30>"
      ]
     },
     "execution_count": 41,
     "metadata": {},
     "output_type": "execute_result"
    },
    {
     "data": {
      "image/png": "[encoded data removed]",
      "text/plain": [
       "<Figure size 576x396 with 1 Axes>"
      ]
     },
     "metadata": {},
     "output_type": "display_data"
    }
   ],
   "source": [
    "\n",
    "sns.distplot(Data[\"QTE TOTALE LAISSEE\"], hist=True, kde=True, bins=50, color = 'darkblue')"
   ]
  },
  {
   "cell_type": "code",
   "execution_count": 46,
   "metadata": {
    "collapsed": false
   },
   "outputs": [
    {
     "name": "stderr",
     "output_type": "stream",
     "text": [
      "/home/aimsadmin/.local/lib/python3.5/site-packages/matplotlib/axes/_axes.py:6462: UserWarning: The 'normed' kwarg is deprecated, and has been replaced by the 'density' kwarg.\n",
      "  warnings.warn(\"The 'normed' kwarg is deprecated, and has been \"\n"
     ]
    },
    {
     "data": {
      "text/plain": [
       "<matplotlib.axes._subplots.AxesSubplot at 0x7f8b99a05208>"
      ]
     },
     "execution_count": 46,
     "metadata": {},
     "output_type": "execute_result"
    },
    {
     "data": {
      "image/png": "[encoded data removed]",
      "text/plain": [
       "<Figure size 576x396 with 1 Axes>"
      ]
     },
     "metadata": {},
     "output_type": "display_data"
    }
   ],
   "source": [
    "\n",
    "sns.distplot(Data[\"Running time per day\"], hist=True, kde=True, \n",
    "             bins=50, color = 'darkblue', \n",
    "             hist_kws={'edgecolor':'black'},\n",
    "             kde_kws={'linewidth': 4})"
   ]
  },
  {
   "cell_type": "code",
   "execution_count": 47,
   "metadata": {
    "collapsed": false
   },
   "outputs": [
    {
     "name": "stderr",
     "output_type": "stream",
     "text": [
      "/home/aimsadmin/.local/lib/python3.5/site-packages/matplotlib/axes/_axes.py:6462: UserWarning: The 'normed' kwarg is deprecated, and has been replaced by the 'density' kwarg.\n",
      "  warnings.warn(\"The 'normed' kwarg is deprecated, and has been \"\n"
     ]
    },
    {
     "data": {
      "text/plain": [
       "<matplotlib.axes._subplots.AxesSubplot at 0x7f8b999809e8>"
      ]
     },
     "execution_count": 47,
     "metadata": {},
     "output_type": "execute_result"
    },
    {
     "data": {
      "image/png": "[encoded data removed]",
      "text/plain": [
       "<Figure size 576x396 with 1 Axes>"
      ]
     },
     "metadata": {},
     "output_type": "display_data"
    }
   ],
   "source": [
    "\n",
    "sns.distplot(Data[\"Maximum_consumption_perDay\"], hist=True, kde=True, \n",
    "             bins=50, color = 'darkblue', \n",
    "             hist_kws={'edgecolor':'black'},\n",
    "             kde_kws={'linewidth': 4})"
   ]
  },
  {
   "cell_type": "code",
   "execution_count": 48,
   "metadata": {
    "collapsed": false
   },
   "outputs": [
    {
     "name": "stderr",
     "output_type": "stream",
     "text": [
      "/home/aimsadmin/.local/lib/python3.5/site-packages/matplotlib/axes/_axes.py:6462: UserWarning: The 'normed' kwarg is deprecated, and has been replaced by the 'density' kwarg.\n",
      "  warnings.warn(\"The 'normed' kwarg is deprecated, and has been \"\n"
     ]
    },
    {
     "data": {
      "text/plain": [
       "<matplotlib.axes._subplots.AxesSubplot at 0x7f8b998f2c88>"
      ]
     },
     "execution_count": 48,
     "metadata": {},
     "output_type": "execute_result"
    },
    {
     "data": {
      "image/png": "[encoded data removed]",
      "text/plain": [
       "<Figure size 576x396 with 1 Axes>"
      ]
     },
     "metadata": {},
     "output_type": "display_data"
    }
   ],
   "source": [
    "\n",
    "sns.distplot(Data[\"Quanitity_consumed_btn_visits\"],norm_hist=True, kde=True, bins=50, color = 'darkblue')"
   ]
  },
  {
   "cell_type": "code",
   "execution_count": 49,
   "metadata": {
    "collapsed": false
   },
   "outputs": [
    {
     "name": "stderr",
     "output_type": "stream",
     "text": [
      "/home/aimsadmin/.local/lib/python3.5/site-packages/matplotlib/axes/_axes.py:6462: UserWarning: The 'normed' kwarg is deprecated, and has been replaced by the 'density' kwarg.\n",
      "  warnings.warn(\"The 'normed' kwarg is deprecated, and has been \"\n"
     ]
    },
    {
     "data": {
      "text/plain": [
       "<matplotlib.axes._subplots.AxesSubplot at 0x7f8b998967f0>"
      ]
     },
     "execution_count": 49,
     "metadata": {},
     "output_type": "execute_result"
    },
    {
     "data": {
      "image/png": "[encoded data removed]",
      "text/plain": [
       "<Figure size 576x396 with 1 Axes>"
      ]
     },
     "metadata": {},
     "output_type": "display_data"
    }
   ],
   "source": [
    "\n",
    "sns.distplot(Data[\"Consumption HIS\"], hist=True, kde=True, bins=50, color = 'darkblue')"
   ]
  },
  {
   "cell_type": "code",
   "execution_count": 50,
   "metadata": {
    "collapsed": false
   },
   "outputs": [
    {
     "name": "stderr",
     "output_type": "stream",
     "text": [
      "/home/aimsadmin/.local/lib/python3.5/site-packages/matplotlib/axes/_axes.py:6462: UserWarning: The 'normed' kwarg is deprecated, and has been replaced by the 'density' kwarg.\n",
      "  warnings.warn(\"The 'normed' kwarg is deprecated, and has been \"\n"
     ]
    },
    {
     "data": {
      "text/plain": [
       "<matplotlib.axes._subplots.AxesSubplot at 0x7f8b9980f208>"
      ]
     },
     "execution_count": 50,
     "metadata": {},
     "output_type": "execute_result"
    },
    {
     "data": {
      "image/png": "[encoded data removed]",
      "text/plain": [
       "<Figure size 576x396 with 1 Axes>"
      ]
     },
     "metadata": {},
     "output_type": "display_data"
    }
   ],
   "source": [
    "\n",
    "sns.distplot(Data[\"NBRE HEURES DE FONCTIONNEMENT DG1\"], hist=True, kde=True, bins=50, color = 'darkblue')"
   ]
  },
  {
   "cell_type": "code",
   "execution_count": null,
   "metadata": {
    "collapsed": true
   },
   "outputs": [],
   "source": []
  },
  {
   "cell_type": "code",
   "execution_count": null,
   "metadata": {
    "collapsed": true
   },
   "outputs": [],
   "source": []
  },
  {
   "cell_type": "code",
   "execution_count": null,
   "metadata": {
    "collapsed": true
   },
   "outputs": [],
   "source": []
  },
  {
   "cell_type": "code",
   "execution_count": null,
   "metadata": {
    "collapsed": true
   },
   "outputs": [],
   "source": []
  }
 ],
 "metadata": {
  "kernelspec": {
   "display_name": "Python 3",
   "language": "python",
   "name": "python3"
  },
  "language_info": {
   "codemirror_mode": {
    "name": "ipython",
    "version": 3
   },
   "file_extension": ".py",
   "mimetype": "text/x-python",
   "name": "python",
   "nbconvert_exporter": "python",
   "pygments_lexer": "ipython3",
   "version": "3.5.3"
  }
 },
 "nbformat": 4,
 "nbformat_minor": 2
}
