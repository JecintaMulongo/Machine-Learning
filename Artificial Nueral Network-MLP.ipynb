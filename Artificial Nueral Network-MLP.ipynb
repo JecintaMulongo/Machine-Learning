{
 "cells": [
  {
   "cell_type": "code",
   "execution_count": 56,
   "metadata": {
    "collapsed": false
   },
   "outputs": [],
   "source": [
    "import numpy as np\n",
    "import pandas as pd\n",
    "import matplotlib.pyplot as plt\n",
    "import seaborn as sns\n",
    "import itertools\n",
    "import warnings\n",
    "from sklearn import tree\n",
    "from IPython.display import Image\n",
    "import pydotplus as pydot \n",
    "warnings.filterwarnings(\"ignore\")\n",
    "from sklearn.externals.six import StringIO\n",
    "from sklearn.model_selection import train_test_split\n",
    "from sklearn.preprocessing import StandardScaler\n",
    "from sklearn import metrics\n",
    "from sklearn.neural_network import MLPClassifier\n",
    "from sklearn import preprocessing\n",
    "from sklearn.metrics import roc_auc_score\n",
    "from sklearn.preprocessing import LabelEncoder\n",
    "from numpy import set_printoptions\n",
    "import tensorflow as tf\n",
    "set_printoptions(precision=3)"
   ]
  },
  {
   "cell_type": "code",
   "execution_count": 2,
   "metadata": {
    "collapsed": false
   },
   "outputs": [],
   "source": [
    "Data = pd.read_excel(\"Gen.xlsx\",sheet_name=\"data\").dropna(how = \"any\")\n",
    "Data['Generator 1capacity (KVA)'] = Data['Generator 1capacity (KVA)'].astype(\"category\")\n",
    "Data = Data.dropna(how = 'any')"
   ]
  },
  {
   "cell_type": "code",
   "execution_count": 3,
   "metadata": {
    "collapsed": false
   },
   "outputs": [],
   "source": [
    "Data['consumption_perDay_within_a_period'] = Data['Consumption HIS']/(Data['NBRE DE JOUR'])\n",
    "Data.loc[~np.isfinite(Data['consumption_perDay_within_a_period']), 'consumption_perDay_within_a_period'] = 0\n",
    "Data['Quanitity_consumed_btn_visits'] = Data['QTE FUEL PRECEDENTE'] - Data['QTE FUEL TROUVEE']\n",
    "set_printoptions(precision=3)"
   ]
  },
  {
   "cell_type": "code",
   "execution_count": 4,
   "metadata": {
    "collapsed": false
   },
   "outputs": [
    {
     "data": {
      "text/html": [
       "<div>\n",
       "<style scoped>\n",
       "    .dataframe tbody tr th:only-of-type {\n",
       "        vertical-align: middle;\n",
       "    }\n",
       "\n",
       "    .dataframe tbody tr th {\n",
       "        vertical-align: top;\n",
       "    }\n",
       "\n",
       "    .dataframe thead th {\n",
       "        text-align: right;\n",
       "    }\n",
       "</style>\n",
       "<table border=\"1\" class=\"dataframe\">\n",
       "  <thead>\n",
       "    <tr style=\"text-align: right;\">\n",
       "      <th></th>\n",
       "      <th>Cluster</th>\n",
       "      <th>Site Name</th>\n",
       "      <th>DATE  EFFECTIVE DE LA VISITE</th>\n",
       "      <th>DATE DE VISITE PRECEDENTE</th>\n",
       "      <th>Months</th>\n",
       "      <th>NBRE DE JOUR</th>\n",
       "      <th>Generator 1capacity (KVA)</th>\n",
       "      <th>COMPTEUR HORAIRE ACTUEL GE1</th>\n",
       "      <th>ANCIEN COMPTEUR HORAIRE G1</th>\n",
       "      <th>QTE FUEL PRECEDENTE</th>\n",
       "      <th>...</th>\n",
       "      <th>QTE FUEL AJOUTEE</th>\n",
       "      <th>QTE TOTALE LAISSEE</th>\n",
       "      <th>Consumption HIS</th>\n",
       "      <th>Class</th>\n",
       "      <th>NBRE HEURES DE FONCTIONNEMENT DG1</th>\n",
       "      <th>CONSOMMATION HORAIRE DE FUEL DG1</th>\n",
       "      <th>Power Type</th>\n",
       "      <th>consumption_perDay_within_a_period</th>\n",
       "      <th>Quanitity_consumed_btn_visits</th>\n",
       "      <th>Gen_capacityCode</th>\n",
       "    </tr>\n",
       "  </thead>\n",
       "  <tbody>\n",
       "    <tr>\n",
       "      <th>0</th>\n",
       "      <td>KOUSSERI</td>\n",
       "      <td>FIGUIL [ T0157 ]</td>\n",
       "      <td>2017-09-26</td>\n",
       "      <td>2017-09-20</td>\n",
       "      <td>September</td>\n",
       "      <td>6</td>\n",
       "      <td>22.0</td>\n",
       "      <td>21136</td>\n",
       "      <td>20996</td>\n",
       "      <td>461.0</td>\n",
       "      <td>...</td>\n",
       "      <td>375.0</td>\n",
       "      <td>486.0</td>\n",
       "      <td>420.0</td>\n",
       "      <td>-1</td>\n",
       "      <td>140.0</td>\n",
       "      <td>3.0</td>\n",
       "      <td>Gen Only</td>\n",
       "      <td>70.0</td>\n",
       "      <td>350.0</td>\n",
       "      <td>15</td>\n",
       "    </tr>\n",
       "    <tr>\n",
       "      <th>1</th>\n",
       "      <td>GUIDER</td>\n",
       "      <td>DEMBO [ T1408 ]</td>\n",
       "      <td>2017-09-26</td>\n",
       "      <td>2017-09-22</td>\n",
       "      <td>September</td>\n",
       "      <td>4</td>\n",
       "      <td>22.0</td>\n",
       "      <td>2522</td>\n",
       "      <td>2424</td>\n",
       "      <td>685.0</td>\n",
       "      <td>...</td>\n",
       "      <td>0.0</td>\n",
       "      <td>440.0</td>\n",
       "      <td>254.8</td>\n",
       "      <td>-1</td>\n",
       "      <td>98.0</td>\n",
       "      <td>2.6</td>\n",
       "      <td>Gen Only</td>\n",
       "      <td>63.7</td>\n",
       "      <td>245.0</td>\n",
       "      <td>15</td>\n",
       "    </tr>\n",
       "    <tr>\n",
       "      <th>2</th>\n",
       "      <td>GAROUA 1</td>\n",
       "      <td>BANGANA [ T2901 ]</td>\n",
       "      <td>2017-09-26</td>\n",
       "      <td>2017-09-21</td>\n",
       "      <td>September</td>\n",
       "      <td>5</td>\n",
       "      <td>9.0</td>\n",
       "      <td>13284</td>\n",
       "      <td>13165</td>\n",
       "      <td>495.0</td>\n",
       "      <td>...</td>\n",
       "      <td>200.0</td>\n",
       "      <td>480.0</td>\n",
       "      <td>238.0</td>\n",
       "      <td>-1</td>\n",
       "      <td>119.0</td>\n",
       "      <td>2.0</td>\n",
       "      <td>Gen Only</td>\n",
       "      <td>47.6</td>\n",
       "      <td>215.0</td>\n",
       "      <td>4</td>\n",
       "    </tr>\n",
       "  </tbody>\n",
       "</table>\n",
       "<p>3 rows × 21 columns</p>\n",
       "</div>"
      ],
      "text/plain": [
       "    Cluster          Site Name DATE  EFFECTIVE DE LA VISITE  \\\n",
       "0  KOUSSERI   FIGUIL [ T0157 ]                   2017-09-26   \n",
       "1    GUIDER    DEMBO [ T1408 ]                   2017-09-26   \n",
       "2  GAROUA 1  BANGANA [ T2901 ]                   2017-09-26   \n",
       "\n",
       "  DATE DE VISITE PRECEDENTE     Months  NBRE DE JOUR  \\\n",
       "0                2017-09-20  September             6   \n",
       "1                2017-09-22  September             4   \n",
       "2                2017-09-21  September             5   \n",
       "\n",
       "  Generator 1capacity (KVA)  COMPTEUR HORAIRE ACTUEL GE1  \\\n",
       "0                      22.0                        21136   \n",
       "1                      22.0                         2522   \n",
       "2                       9.0                        13284   \n",
       "\n",
       "   ANCIEN COMPTEUR HORAIRE G1  QTE FUEL PRECEDENTE        ...         \\\n",
       "0                       20996                461.0        ...          \n",
       "1                        2424                685.0        ...          \n",
       "2                       13165                495.0        ...          \n",
       "\n",
       "   QTE FUEL AJOUTEE  QTE TOTALE LAISSEE  Consumption HIS  Class  \\\n",
       "0             375.0               486.0            420.0     -1   \n",
       "1               0.0               440.0            254.8     -1   \n",
       "2             200.0               480.0            238.0     -1   \n",
       "\n",
       "   NBRE HEURES DE FONCTIONNEMENT DG1  CONSOMMATION HORAIRE DE FUEL DG1  \\\n",
       "0                              140.0                               3.0   \n",
       "1                               98.0                               2.6   \n",
       "2                              119.0                               2.0   \n",
       "\n",
       "   Power Type consumption_perDay_within_a_period  \\\n",
       "0    Gen Only                               70.0   \n",
       "1    Gen Only                               63.7   \n",
       "2    Gen Only                               47.6   \n",
       "\n",
       "   Quanitity_consumed_btn_visits  Gen_capacityCode  \n",
       "0                          350.0                15  \n",
       "1                          245.0                15  \n",
       "2                          215.0                 4  \n",
       "\n",
       "[3 rows x 21 columns]"
      ]
     },
     "execution_count": 4,
     "metadata": {},
     "output_type": "execute_result"
    }
   ],
   "source": [
    "lb_make = LabelEncoder()\n",
    "Data[\"Gen_capacityCode\"] = lb_make.fit_transform(Data[\"Generator 1capacity (KVA)\"])\n",
    "lab_enc = preprocessing.LabelEncoder()\n",
    "#y = lab_enc.fit_transform(Data['Consumption HIS'])\n",
    "#Data[[\"Generator 1capacity (KVA)\", \"Gen_capacityCode\"]]\n",
    "Data.head(3)\n",
    "#Data1 = pd.get_dummies(Data['Cluster'],prefix=['Cluster'], drop_first=True)"
   ]
  },
  {
   "cell_type": "code",
   "execution_count": 5,
   "metadata": {
    "collapsed": false
   },
   "outputs": [],
   "source": [
    "Data.drop(['Power Type'],axis=1, inplace=True)\n",
    "Data.drop(['ANCIEN COMPTEUR HORAIRE G1'],axis=1, inplace=True)\n",
    "Data.drop(['Class'],axis=1, inplace=True)\n",
    "Data.drop(['DATE  EFFECTIVE DE LA VISITE'],axis=1, inplace=True)\n",
    "Data.drop(['DATE DE VISITE PRECEDENTE'],axis=1, inplace=True)\n",
    "\n",
    "Data.drop(['Months'],axis=1, inplace=True)\n",
    "Data.drop(['Cluster'],axis=1, inplace=True)\n",
    "Data.drop(['Site Name'],axis=1, inplace=True)\n",
    "Data.drop(['Generator 1capacity (KVA)'],axis=1, inplace=True)\n",
    "\n",
    "Data.drop(['COMPTEUR HORAIRE ACTUEL GE1'],axis=1, inplace=True)\n",
    "Data.drop(['QTE FUEL AJOUTEE'],axis=1, inplace=True)\n"
   ]
  },
  {
   "cell_type": "code",
   "execution_count": null,
   "metadata": {
    "collapsed": false
   },
   "outputs": [],
   "source": []
  },
  {
   "cell_type": "code",
   "execution_count": 6,
   "metadata": {
    "collapsed": false
   },
   "outputs": [],
   "source": [
    "\n",
    "Data['Running time per day'] = Data[\"NBRE HEURES DE FONCTIONNEMENT DG1\"]/Data[\"NBRE DE JOUR\"]             \n",
    "Data.loc[~np.isfinite(Data['Running time per day']), 'Running time per day'] = 0\n",
    "set_printoptions(precision=3)"
   ]
  },
  {
   "cell_type": "code",
   "execution_count": 7,
   "metadata": {
    "collapsed": false
   },
   "outputs": [],
   "source": [
    "Data['Maximum_consumption_perDay'] = Data[['CONSOMMATION HORAIRE DE FUEL DG1']]*24\n",
    "set_printoptions(precision=3)"
   ]
  },
  {
   "cell_type": "markdown",
   "metadata": {
    "collapsed": false
   },
   "source": [
    "maximum consumption in one day\n",
    "fuel consumed per period difference netween the fuel found and previously left\n",
    "comparison of the difference with running time.\n",
    "Generator running for more than 24 hourse in a day\n"
   ]
  },
  {
   "cell_type": "code",
   "execution_count": 8,
   "metadata": {
    "collapsed": true
   },
   "outputs": [],
   "source": [
    "a = list(Data['NBRE HEURES DE FONCTIONNEMENT DG1'])\n",
    "b = list(Data['Quanitity_consumed_btn_visits'])"
   ]
  },
  {
   "cell_type": "code",
   "execution_count": 9,
   "metadata": {
    "collapsed": false
   },
   "outputs": [],
   "source": [
    "c = []\n",
    "for i in range(len(a)):\n",
    "    if a[i] == 0  and  b[i]!=0:\n",
    "        c.append(0)\n",
    "    else:\n",
    "        c.append(1)"
   ]
  },
  {
   "cell_type": "code",
   "execution_count": 10,
   "metadata": {
    "collapsed": false
   },
   "outputs": [],
   "source": [
    "t = list(Data['Maximum_consumption_perDay'])\n",
    "r = list (Data['consumption_perDay_within_a_period'])"
   ]
  },
  {
   "cell_type": "code",
   "execution_count": 11,
   "metadata": {
    "collapsed": false
   },
   "outputs": [],
   "source": [
    "z = []\n",
    "for i in range(len(r)):\n",
    "    if r[i] > t[i]:\n",
    "        z.append(0)\n",
    "    else:\n",
    "        z.append(1)"
   ]
  },
  {
   "cell_type": "code",
   "execution_count": 12,
   "metadata": {
    "collapsed": false
   },
   "outputs": [],
   "source": [
    "p = []\n",
    "for i in range(len(z)):\n",
    "    if c[i]==1 and z[i]==1:\n",
    "        p.append(1)\n",
    "    else:\n",
    "        p.append(0)     "
   ]
  },
  {
   "cell_type": "code",
   "execution_count": 13,
   "metadata": {
    "collapsed": false
   },
   "outputs": [],
   "source": [
    "Data['Class'] = p\n"
   ]
  },
  {
   "cell_type": "code",
   "execution_count": null,
   "metadata": {
    "collapsed": false
   },
   "outputs": [],
   "source": []
  },
  {
   "cell_type": "code",
   "execution_count": 14,
   "metadata": {
    "collapsed": false
   },
   "outputs": [],
   "source": [
    "Data.drop(['QTE TOTALE LAISSEE'],axis=1, inplace=True)\n",
    "#Data.drop(['Consumption HIS'],axis=1, inplace=True)\n",
    "Data.drop(['Gen_capacityCode'],axis=1, inplace=True)\n",
    "Data.drop(['QTE FUEL PRECEDENTE'],axis=1, inplace=True)\n",
    "Data.drop(['QTE FUEL TROUVEE'],axis=1, inplace=True)\n",
    "#Data.drop(['NBRE HEURES DE FONCTIONNEMENT DG1'],axis=1, inplace=True)\n",
    "#Data.drop(['CONSOMMATION HORAIRE DE FUEL DG1'],axis=1, inplace=True)\n",
    "Data.drop(['NBRE DE JOUR'],axis=1, inplace=True)\n",
    "Data.drop(['Quanitity_consumed_btn_visits'],axis=1, inplace=True)\n",
    "Data.drop(['Maximum_consumption_perDay'],axis=1, inplace=True)"
   ]
  },
  {
   "cell_type": "code",
   "execution_count": null,
   "metadata": {
    "collapsed": false
   },
   "outputs": [],
   "source": [
    "Data.columns"
   ]
  },
  {
   "cell_type": "code",
   "execution_count": 38,
   "metadata": {
    "collapsed": true
   },
   "outputs": [],
   "source": [
    "# FUNCTION FOR TRAINING THE MODEL\n",
    "def trainmodel(model):\n",
    "    model.fit(x_train,y_train)\n",
    "# FUNCTION TO MAKE PREDICTIONS\n",
    "\n",
    "def predictmodel(model):\n",
    "    y_pred = model.predict(x_test)\n",
    "    f,t,thresholds = metrics.roc_curve(y_test,y_pred)\n",
    "    cm = metrics.confusion_matrix(y_test,y_pred)\n",
    "    \n",
    "    print(\"Score:\", metrics.auc(f,t))\n",
    "    print(\"Classification report:\")\n",
    "    print(metrics.classification_report(y_test,y_pred))\n",
    "    print(\"Confusion Matrix:\")\n",
    "    print(cm)\n",
    "def predictmodeln(model):\n",
    "    y_pred = model.predict(x_test)\n",
    "    f,t,thresholds = metrics.roc_curve(y_test,y_pred)\n",
    "    cm = metrics.confusion_matrix(y_test,y_pred)\n",
    "    print(\"Score:\", metrics.auc(f,t))\n",
    "    print(\"Classification report:\")\n",
    "    print(metrics.classification_report(y_test,y_pred))\n",
    "    print(\"Confusion Matrix:\")\n",
    "    print(cm)\n",
    "    "
   ]
  },
  {
   "cell_type": "code",
   "execution_count": 48,
   "metadata": {
    "collapsed": false
   },
   "outputs": [
    {
     "name": "stdout",
     "output_type": "stream",
     "text": [
      "Score: 0.8774728675316636\n",
      "Classification report:\n",
      "             precision    recall  f1-score   support\n",
      "\n",
      "          0       0.89      0.81      0.85       322\n",
      "          1       0.90      0.94      0.92       562\n",
      "\n",
      "avg / total       0.89      0.89      0.89       884\n",
      "\n",
      "Confusion Matrix:\n",
      "[[262  60]\n",
      " [ 33 529]]\n",
      "(2676, 12)\n",
      "(2676,)\n",
      "(884, 12)\n",
      "(1792, 12)\n",
      "(884,)\n",
      "(1792,)\n"
     ]
    }
   ],
   "source": [
    "x = Data.loc[:,Data.columns.tolist()[0:12]]\n",
    "x = x.as_matrix()\n",
    "Y = Data.loc[:,'Class']\n",
    "Y = Y.as_matrix()\n",
    "x_train,x_test,y_train,y_test = train_test_split(x,Y,test_size=0.33,random_state=7)\n",
    "scaler = StandardScaler()\n",
    "scaler.fit(x_train)\n",
    "x_train = scaler.transform(x_train)\n",
    "x_test = scaler.transform(x_test) \n",
    "\n",
    "clf = MLPClassifier( activation='relu', beta_1=0.6, beta_2=0.9,alpha = 0.001,early_stopping = True,shuffle = True,warm_start = True,validation_fraction = 0.3,learning_rate_init=0.01, max_iter = 14000, random_state = 2700, learning_rate='adaptive')\n",
    "clf.fit(x_train , y_train)\n",
    "predictmodel(clf)\n",
    "print(x.shape)\n",
    "print(Y.shape)\n",
    "print(x_test.shape)\n",
    "print( x_train.shape)\n",
    "print( y_test.shape)\n",
    "print(y_train.shape)"
   ]
  },
  {
   "cell_type": "code",
   "execution_count": 74,
   "metadata": {
    "collapsed": false
   },
   "outputs": [
    {
     "name": "stdout",
     "output_type": "stream",
     "text": [
      "Overall AUC: 0.8774728675316636\n"
     ]
    }
   ],
   "source": [
    "y_pred= clf.predict(x_test)\n",
    "print('Overall AUC:', roc_auc_score(y_test, clf.predict(x_test)))\n",
    "\n",
    "submission = pd.DataFrame({\"Original\":y_test,\"predict\":y_pred})"
   ]
  },
  {
   "cell_type": "code",
   "execution_count": 75,
   "metadata": {
    "collapsed": false
   },
   "outputs": [
    {
     "data": {
      "text/html": [
       "<div>\n",
       "<style scoped>\n",
       "    .dataframe tbody tr th:only-of-type {\n",
       "        vertical-align: middle;\n",
       "    }\n",
       "\n",
       "    .dataframe tbody tr th {\n",
       "        vertical-align: top;\n",
       "    }\n",
       "\n",
       "    .dataframe thead th {\n",
       "        text-align: right;\n",
       "    }\n",
       "</style>\n",
       "<table border=\"1\" class=\"dataframe\">\n",
       "  <thead>\n",
       "    <tr style=\"text-align: right;\">\n",
       "      <th></th>\n",
       "      <th>Original</th>\n",
       "      <th>predict</th>\n",
       "    </tr>\n",
       "  </thead>\n",
       "  <tbody>\n",
       "    <tr>\n",
       "      <th>0</th>\n",
       "      <td>1</td>\n",
       "      <td>1</td>\n",
       "    </tr>\n",
       "    <tr>\n",
       "      <th>1</th>\n",
       "      <td>0</td>\n",
       "      <td>0</td>\n",
       "    </tr>\n",
       "    <tr>\n",
       "      <th>2</th>\n",
       "      <td>0</td>\n",
       "      <td>0</td>\n",
       "    </tr>\n",
       "    <tr>\n",
       "      <th>3</th>\n",
       "      <td>1</td>\n",
       "      <td>1</td>\n",
       "    </tr>\n",
       "    <tr>\n",
       "      <th>4</th>\n",
       "      <td>0</td>\n",
       "      <td>0</td>\n",
       "    </tr>\n",
       "    <tr>\n",
       "      <th>5</th>\n",
       "      <td>1</td>\n",
       "      <td>1</td>\n",
       "    </tr>\n",
       "    <tr>\n",
       "      <th>6</th>\n",
       "      <td>1</td>\n",
       "      <td>1</td>\n",
       "    </tr>\n",
       "    <tr>\n",
       "      <th>7</th>\n",
       "      <td>0</td>\n",
       "      <td>1</td>\n",
       "    </tr>\n",
       "    <tr>\n",
       "      <th>8</th>\n",
       "      <td>1</td>\n",
       "      <td>1</td>\n",
       "    </tr>\n",
       "    <tr>\n",
       "      <th>9</th>\n",
       "      <td>0</td>\n",
       "      <td>0</td>\n",
       "    </tr>\n",
       "    <tr>\n",
       "      <th>10</th>\n",
       "      <td>1</td>\n",
       "      <td>1</td>\n",
       "    </tr>\n",
       "    <tr>\n",
       "      <th>11</th>\n",
       "      <td>1</td>\n",
       "      <td>1</td>\n",
       "    </tr>\n",
       "    <tr>\n",
       "      <th>12</th>\n",
       "      <td>1</td>\n",
       "      <td>1</td>\n",
       "    </tr>\n",
       "    <tr>\n",
       "      <th>13</th>\n",
       "      <td>1</td>\n",
       "      <td>1</td>\n",
       "    </tr>\n",
       "    <tr>\n",
       "      <th>14</th>\n",
       "      <td>1</td>\n",
       "      <td>1</td>\n",
       "    </tr>\n",
       "    <tr>\n",
       "      <th>15</th>\n",
       "      <td>0</td>\n",
       "      <td>0</td>\n",
       "    </tr>\n",
       "    <tr>\n",
       "      <th>16</th>\n",
       "      <td>1</td>\n",
       "      <td>1</td>\n",
       "    </tr>\n",
       "    <tr>\n",
       "      <th>17</th>\n",
       "      <td>0</td>\n",
       "      <td>0</td>\n",
       "    </tr>\n",
       "    <tr>\n",
       "      <th>18</th>\n",
       "      <td>1</td>\n",
       "      <td>1</td>\n",
       "    </tr>\n",
       "    <tr>\n",
       "      <th>19</th>\n",
       "      <td>1</td>\n",
       "      <td>1</td>\n",
       "    </tr>\n",
       "    <tr>\n",
       "      <th>20</th>\n",
       "      <td>1</td>\n",
       "      <td>1</td>\n",
       "    </tr>\n",
       "    <tr>\n",
       "      <th>21</th>\n",
       "      <td>1</td>\n",
       "      <td>1</td>\n",
       "    </tr>\n",
       "    <tr>\n",
       "      <th>22</th>\n",
       "      <td>1</td>\n",
       "      <td>1</td>\n",
       "    </tr>\n",
       "    <tr>\n",
       "      <th>23</th>\n",
       "      <td>1</td>\n",
       "      <td>1</td>\n",
       "    </tr>\n",
       "    <tr>\n",
       "      <th>24</th>\n",
       "      <td>1</td>\n",
       "      <td>1</td>\n",
       "    </tr>\n",
       "    <tr>\n",
       "      <th>25</th>\n",
       "      <td>1</td>\n",
       "      <td>1</td>\n",
       "    </tr>\n",
       "    <tr>\n",
       "      <th>26</th>\n",
       "      <td>1</td>\n",
       "      <td>1</td>\n",
       "    </tr>\n",
       "    <tr>\n",
       "      <th>27</th>\n",
       "      <td>1</td>\n",
       "      <td>0</td>\n",
       "    </tr>\n",
       "    <tr>\n",
       "      <th>28</th>\n",
       "      <td>0</td>\n",
       "      <td>0</td>\n",
       "    </tr>\n",
       "    <tr>\n",
       "      <th>29</th>\n",
       "      <td>0</td>\n",
       "      <td>1</td>\n",
       "    </tr>\n",
       "    <tr>\n",
       "      <th>...</th>\n",
       "      <td>...</td>\n",
       "      <td>...</td>\n",
       "    </tr>\n",
       "    <tr>\n",
       "      <th>854</th>\n",
       "      <td>1</td>\n",
       "      <td>1</td>\n",
       "    </tr>\n",
       "    <tr>\n",
       "      <th>855</th>\n",
       "      <td>1</td>\n",
       "      <td>1</td>\n",
       "    </tr>\n",
       "    <tr>\n",
       "      <th>856</th>\n",
       "      <td>1</td>\n",
       "      <td>1</td>\n",
       "    </tr>\n",
       "    <tr>\n",
       "      <th>857</th>\n",
       "      <td>0</td>\n",
       "      <td>0</td>\n",
       "    </tr>\n",
       "    <tr>\n",
       "      <th>858</th>\n",
       "      <td>1</td>\n",
       "      <td>1</td>\n",
       "    </tr>\n",
       "    <tr>\n",
       "      <th>859</th>\n",
       "      <td>1</td>\n",
       "      <td>1</td>\n",
       "    </tr>\n",
       "    <tr>\n",
       "      <th>860</th>\n",
       "      <td>1</td>\n",
       "      <td>1</td>\n",
       "    </tr>\n",
       "    <tr>\n",
       "      <th>861</th>\n",
       "      <td>1</td>\n",
       "      <td>1</td>\n",
       "    </tr>\n",
       "    <tr>\n",
       "      <th>862</th>\n",
       "      <td>1</td>\n",
       "      <td>0</td>\n",
       "    </tr>\n",
       "    <tr>\n",
       "      <th>863</th>\n",
       "      <td>0</td>\n",
       "      <td>1</td>\n",
       "    </tr>\n",
       "    <tr>\n",
       "      <th>864</th>\n",
       "      <td>0</td>\n",
       "      <td>0</td>\n",
       "    </tr>\n",
       "    <tr>\n",
       "      <th>865</th>\n",
       "      <td>1</td>\n",
       "      <td>1</td>\n",
       "    </tr>\n",
       "    <tr>\n",
       "      <th>866</th>\n",
       "      <td>0</td>\n",
       "      <td>0</td>\n",
       "    </tr>\n",
       "    <tr>\n",
       "      <th>867</th>\n",
       "      <td>0</td>\n",
       "      <td>1</td>\n",
       "    </tr>\n",
       "    <tr>\n",
       "      <th>868</th>\n",
       "      <td>1</td>\n",
       "      <td>1</td>\n",
       "    </tr>\n",
       "    <tr>\n",
       "      <th>869</th>\n",
       "      <td>0</td>\n",
       "      <td>0</td>\n",
       "    </tr>\n",
       "    <tr>\n",
       "      <th>870</th>\n",
       "      <td>1</td>\n",
       "      <td>1</td>\n",
       "    </tr>\n",
       "    <tr>\n",
       "      <th>871</th>\n",
       "      <td>0</td>\n",
       "      <td>0</td>\n",
       "    </tr>\n",
       "    <tr>\n",
       "      <th>872</th>\n",
       "      <td>0</td>\n",
       "      <td>1</td>\n",
       "    </tr>\n",
       "    <tr>\n",
       "      <th>873</th>\n",
       "      <td>0</td>\n",
       "      <td>0</td>\n",
       "    </tr>\n",
       "    <tr>\n",
       "      <th>874</th>\n",
       "      <td>1</td>\n",
       "      <td>1</td>\n",
       "    </tr>\n",
       "    <tr>\n",
       "      <th>875</th>\n",
       "      <td>1</td>\n",
       "      <td>1</td>\n",
       "    </tr>\n",
       "    <tr>\n",
       "      <th>876</th>\n",
       "      <td>1</td>\n",
       "      <td>1</td>\n",
       "    </tr>\n",
       "    <tr>\n",
       "      <th>877</th>\n",
       "      <td>1</td>\n",
       "      <td>1</td>\n",
       "    </tr>\n",
       "    <tr>\n",
       "      <th>878</th>\n",
       "      <td>0</td>\n",
       "      <td>1</td>\n",
       "    </tr>\n",
       "    <tr>\n",
       "      <th>879</th>\n",
       "      <td>0</td>\n",
       "      <td>0</td>\n",
       "    </tr>\n",
       "    <tr>\n",
       "      <th>880</th>\n",
       "      <td>1</td>\n",
       "      <td>1</td>\n",
       "    </tr>\n",
       "    <tr>\n",
       "      <th>881</th>\n",
       "      <td>1</td>\n",
       "      <td>1</td>\n",
       "    </tr>\n",
       "    <tr>\n",
       "      <th>882</th>\n",
       "      <td>0</td>\n",
       "      <td>0</td>\n",
       "    </tr>\n",
       "    <tr>\n",
       "      <th>883</th>\n",
       "      <td>0</td>\n",
       "      <td>0</td>\n",
       "    </tr>\n",
       "  </tbody>\n",
       "</table>\n",
       "<p>884 rows × 2 columns</p>\n",
       "</div>"
      ],
      "text/plain": [
       "     Original  predict\n",
       "0           1        1\n",
       "1           0        0\n",
       "2           0        0\n",
       "3           1        1\n",
       "4           0        0\n",
       "5           1        1\n",
       "6           1        1\n",
       "7           0        1\n",
       "8           1        1\n",
       "9           0        0\n",
       "10          1        1\n",
       "11          1        1\n",
       "12          1        1\n",
       "13          1        1\n",
       "14          1        1\n",
       "15          0        0\n",
       "16          1        1\n",
       "17          0        0\n",
       "18          1        1\n",
       "19          1        1\n",
       "20          1        1\n",
       "21          1        1\n",
       "22          1        1\n",
       "23          1        1\n",
       "24          1        1\n",
       "25          1        1\n",
       "26          1        1\n",
       "27          1        0\n",
       "28          0        0\n",
       "29          0        1\n",
       "..        ...      ...\n",
       "854         1        1\n",
       "855         1        1\n",
       "856         1        1\n",
       "857         0        0\n",
       "858         1        1\n",
       "859         1        1\n",
       "860         1        1\n",
       "861         1        1\n",
       "862         1        0\n",
       "863         0        1\n",
       "864         0        0\n",
       "865         1        1\n",
       "866         0        0\n",
       "867         0        1\n",
       "868         1        1\n",
       "869         0        0\n",
       "870         1        1\n",
       "871         0        0\n",
       "872         0        1\n",
       "873         0        0\n",
       "874         1        1\n",
       "875         1        1\n",
       "876         1        1\n",
       "877         1        1\n",
       "878         0        1\n",
       "879         0        0\n",
       "880         1        1\n",
       "881         1        1\n",
       "882         0        0\n",
       "883         0        0\n",
       "\n",
       "[884 rows x 2 columns]"
      ]
     },
     "execution_count": 75,
     "metadata": {},
     "output_type": "execute_result"
    }
   ],
   "source": [
    "submission"
   ]
  },
  {
   "cell_type": "code",
   "execution_count": null,
   "metadata": {
    "collapsed": false
   },
   "outputs": [],
   "source": []
  },
  {
   "cell_type": "code",
   "execution_count": null,
   "metadata": {
    "collapsed": false
   },
   "outputs": [],
   "source": []
  },
  {
   "cell_type": "code",
   "execution_count": null,
   "metadata": {
    "collapsed": false
   },
   "outputs": [],
   "source": []
  },
  {
   "cell_type": "code",
   "execution_count": null,
   "metadata": {
    "collapsed": false
   },
   "outputs": [],
   "source": []
  },
  {
   "cell_type": "code",
   "execution_count": null,
   "metadata": {
    "collapsed": false
   },
   "outputs": [],
   "source": [
    "\n"
   ]
  },
  {
   "cell_type": "code",
   "execution_count": null,
   "metadata": {
    "collapsed": false
   },
   "outputs": [],
   "source": []
  },
  {
   "cell_type": "code",
   "execution_count": null,
   "metadata": {
    "collapsed": false
   },
   "outputs": [],
   "source": []
  },
  {
   "cell_type": "code",
   "execution_count": null,
   "metadata": {
    "collapsed": false
   },
   "outputs": [],
   "source": []
  },
  {
   "cell_type": "code",
   "execution_count": null,
   "metadata": {
    "collapsed": true
   },
   "outputs": [],
   "source": []
  },
  {
   "cell_type": "code",
   "execution_count": null,
   "metadata": {
    "collapsed": false
   },
   "outputs": [],
   "source": []
  },
  {
   "cell_type": "code",
   "execution_count": null,
   "metadata": {
    "collapsed": false
   },
   "outputs": [],
   "source": []
  },
  {
   "cell_type": "code",
   "execution_count": null,
   "metadata": {
    "collapsed": true
   },
   "outputs": [],
   "source": []
  },
  {
   "cell_type": "code",
   "execution_count": null,
   "metadata": {
    "collapsed": false
   },
   "outputs": [],
   "source": []
  },
  {
   "cell_type": "code",
   "execution_count": null,
   "metadata": {
    "collapsed": false
   },
   "outputs": [],
   "source": []
  }
 ],
 "metadata": {
  "kernelspec": {
   "display_name": "Python 3",
   "language": "python",
   "name": "python3"
  },
  "language_info": {
   "codemirror_mode": {
    "name": "ipython",
    "version": 3
   },
   "file_extension": ".py",
   "mimetype": "text/x-python",
   "name": "python",
   "nbconvert_exporter": "python",
   "pygments_lexer": "ipython3",
   "version": "3.5.3"
  }
 },
 "nbformat": 4,
 "nbformat_minor": 2
}
