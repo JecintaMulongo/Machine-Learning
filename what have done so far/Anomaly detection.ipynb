{
 "cells": [
  {
   "cell_type": "code",
   "execution_count": 63,
   "metadata": {
    "collapsed": false
   },
   "outputs": [],
   "source": [
    "import numpy as np\n",
    "import os\n",
    "import pandas as pd\n",
    "from sklearn.model_selection import train_test_split\n",
    "from sklearn import datasets\n",
    "%matplotlib inline\n",
    "import matplotlib.pyplot as plt\n",
    "from sklearn import svm\n",
    "import os\n",
    "import numpy as np\n",
    "import pandas as pd\n",
    "from sklearn.preprocessing import LabelEncoder\n",
    "from sklearn.cross_validation import KFold\n",
    "from sklearn.ensemble import RandomForestRegressor\n",
    "import matplotlib.pyplot as plt\n",
    "import seaborn as sns \n",
    "#from sklearn.model_selection import cross_val_score"
   ]
  },
  {
   "cell_type": "code",
   "execution_count": 64,
   "metadata": {
    "collapsed": false
   },
   "outputs": [],
   "source": [
    "os.chdir(\"/home/aimsadmin/Documents/Documents/aims/telecommunication/Data by cluster and powe type\")\n",
    "Gen= pd.read_excel(\"All cluster.xlsx\",sheet_name=\"Gen Only\")\n",
    "#y = features['Consumption HIS']\n",
    "Gen['QTE TOTALE LAISSEE'].fillna(Gen['QTE TOTALE LAISSEE'].mean(),inplace=True)\n",
    "Gen['Consumption HIS'].fillna(Gen['Consumption HIS'].mean(),inplace=True)\n",
    "Gen['NBRE DE JOUR'].fillna(Gen['NBRE DE JOUR'].mean(),inplace=True)\n",
    "Gen['NBRE HEURES DE FONCTIONNEMENT DG1'].fillna(Gen['NBRE HEURES DE FONCTIONNEMENT DG1'].mean(),inplace=True)\n",
    "Gen['CONSOMMATION HORAIRE DE FUEL DG1'].fillna(Gen['CONSOMMATION HORAIRE DE FUEL DG1'].mean(),inplace=True)"
   ]
  },
  {
   "cell_type": "markdown",
   "metadata": {},
   "source": [
    "Out of 2784 almost 750 cases the genrator was running above 24 hours."
   ]
  },
  {
   "cell_type": "code",
   "execution_count": 65,
   "metadata": {
    "collapsed": false
   },
   "outputs": [
    {
     "data": {
      "text/plain": [
       "False    1992\n",
       "True      792\n",
       "Name: status, dtype: int64"
      ]
     },
     "execution_count": 65,
     "metadata": {},
     "output_type": "execute_result"
    },
    {
     "data": {
      "image/png": "[encoded data removed]",
      "text/plain": [
       "<Figure size 432x288 with 1 Axes>"
      ]
     },
     "metadata": {},
     "output_type": "display_data"
    }
   ],
   "source": [
    "Gen['Running_hours_Perday']=Gen['NBRE HEURES DE FONCTIONNEMENT DG1']/Gen['NBRE DE JOUR']\n",
    "Gen['status'] = Gen['Running_hours_Perday']> 24\n",
    "Gen['status'].value_counts().plot(kind='bar', color = \"darkblue\")\n",
    "Gen['status'].value_counts()"
   ]
  },
  {
   "cell_type": "markdown",
   "metadata": {},
   "source": [
    "The fuel consumed is more than what they can consumed in a day. The first case of generator running for more than 24 also implies this one."
   ]
  },
  {
   "cell_type": "code",
   "execution_count": 66,
   "metadata": {
    "collapsed": false
   },
   "outputs": [
    {
     "data": {
      "text/plain": [
       "False    1927\n",
       "True      857\n",
       "Name: Consumeed_more_than_maximum, dtype: int64"
      ]
     },
     "execution_count": 66,
     "metadata": {},
     "output_type": "execute_result"
    },
    {
     "data": {
      "image/png": "[encoded data removed]",
      "text/plain": [
       "<Figure size 432x288 with 1 Axes>"
      ]
     },
     "metadata": {},
     "output_type": "display_data"
    }
   ],
   "source": [
    "Gen['Maximum_consumption_perDay'] = Gen[['CONSOMMATION HORAIRE DE FUEL DG1']]*24\n",
    "Gen['consumption_perDay_within_a_period'] = Gen['Consumption HIS']/(Gen['NBRE DE JOUR'])\n",
    "Gen.loc[~np.isfinite(Gen['consumption_perDay_within_a_period']), 'consumption_perDay_within_a_period'] = 0\n",
    "Gen['Consumeed_more_than_maximum'] =Gen['consumption_perDay_within_a_period']> Gen['Maximum_consumption_perDay']\n",
    "\n",
    "\n",
    "Gen['Consumeed_more_than_maximum'].value_counts().plot(kind='bar', color = \"darkblue\")\n",
    "Gen['Consumeed_more_than_maximum'].value_counts()"
   ]
  },
  {
   "cell_type": "markdown",
   "metadata": {},
   "source": [
    "We have 140 where running hours of the generator is indicated as zero that means the consumption is zero. but the difference between the fuel found on the generator and previously left on the generatot is not the same"
   ]
  },
  {
   "cell_type": "code",
   "execution_count": 67,
   "metadata": {
    "collapsed": false
   },
   "outputs": [],
   "source": [
    "Gen['Quanitity_consumed_btn_visits'] = Gen['QTE FUEL PRECEDENTE'] - Gen['QTE FUEL TROUVEE']\n",
    "Fraud = []\n",
    "for i in range(len(list(Gen['NBRE HEURES DE FONCTIONNEMENT DG1']))):\n",
    "    if list(Gen['NBRE HEURES DE FONCTIONNEMENT DG1'])[i] == 0 and list(Gen['Quanitity_consumed_btn_visits'])[i] >0:\n",
    "        Fraud.append(-1)\n",
    "    else:\n",
    "        Fraud.append(1)"
   ]
  },
  {
   "cell_type": "code",
   "execution_count": 68,
   "metadata": {
    "collapsed": false
   },
   "outputs": [
    {
     "data": {
      "text/plain": [
       " 1    2644\n",
       "-1     140\n",
       "dtype: int64"
      ]
     },
     "execution_count": 68,
     "metadata": {},
     "output_type": "execute_result"
    },
    {
     "data": {
      "image/png": "[encoded data removed]",
      "text/plain": [
       "<Figure size 432x288 with 1 Axes>"
      ]
     },
     "metadata": {},
     "output_type": "display_data"
    }
   ],
   "source": [
    "pd.Series(Fraud).value_counts().plot(kind='bar', color = \"darkblue\")\n",
    "pd.Series(Fraud).value_counts()"
   ]
  },
  {
   "cell_type": "code",
   "execution_count": null,
   "metadata": {
    "collapsed": true
   },
   "outputs": [],
   "source": []
  }
 ],
 "metadata": {
  "kernelspec": {
   "display_name": "Python 3",
   "language": "python",
   "name": "python3"
  },
  "language_info": {
   "codemirror_mode": {
    "name": "ipython",
    "version": 3
   },
   "file_extension": ".py",
   "mimetype": "text/x-python",
   "name": "python",
   "nbconvert_exporter": "python",
   "pygments_lexer": "ipython3",
   "version": "3.5.3"
  }
 },
 "nbformat": 4,
 "nbformat_minor": 2
}
