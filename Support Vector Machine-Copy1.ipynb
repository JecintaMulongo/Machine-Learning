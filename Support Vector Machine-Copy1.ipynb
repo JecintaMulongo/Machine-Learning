{
 "cells": [
  {
   "cell_type": "markdown",
   "metadata": {},
   "source": [
    "In the comparison of algorithm , the SVM had an accuracy of 63.3%. In this case am considering svm only and specific variables and tuning some parameters. The conditions of fraud or not fraud still remain the same as explained in the project1 notebook."
   ]
  },
  {
   "cell_type": "code",
   "execution_count": 6,
   "metadata": {
    "collapsed": false
   },
   "outputs": [],
   "source": [
    "import numpy as np\n",
    "import pandas as pd\n",
    "import matplotlib.pyplot as plt\n",
    "import seaborn as sns\n",
    "import itertools\n",
    "import warnings\n",
    "from sklearn import tree\n",
    "from IPython.display import Image\n",
    "import pydotplus as pydot \n",
    "warnings.filterwarnings(\"ignore\")\n",
    "from sklearn.externals.six import StringIO\n",
    "from sklearn.model_selection import train_test_split\n",
    "from sklearn.preprocessing import StandardScaler\n",
    "from sklearn import metrics\n",
    "from sklearn import preprocessing\n",
    "from sklearn.preprocessing import LabelEncoder\n",
    "from sklearn.svm import SVC\n",
    "from numpy import set_printoptions\n",
    "set_printoptions(precision=3)\n"
   ]
  },
  {
   "cell_type": "code",
   "execution_count": 7,
   "metadata": {
    "collapsed": false
   },
   "outputs": [],
   "source": [
    "Data = pd.read_excel(\"Gen.xlsx\",sheet_name=\"data\").dropna(how = \"any\")\n",
    "Data = Data.dropna(how = 'any')"
   ]
  },
  {
   "cell_type": "code",
   "execution_count": 8,
   "metadata": {
    "collapsed": false
   },
   "outputs": [],
   "source": [
    "Data['consumption_perDay_within_a_period'] = Data['Consumption HIS']/(Data['NBRE DE JOUR'])\n",
    "Data.loc[~np.isfinite(Data['consumption_perDay_within_a_period']), 'consumption_perDay_within_a_period'] = 0\n",
    "Data['Quanitity_consumed_btn_visits'] = Data['QTE FUEL PRECEDENTE'] - Data['QTE FUEL TROUVEE']\n",
    "set_printoptions(precision=3)"
   ]
  },
  {
   "cell_type": "code",
   "execution_count": 9,
   "metadata": {
    "collapsed": false
   },
   "outputs": [],
   "source": [
    "Data.drop(['Power Type'],axis=1, inplace=True)\n",
    "Data.drop(['ANCIEN COMPTEUR HORAIRE G1'],axis=1, inplace=True)\n",
    "Data.drop(['Class'],axis=1, inplace=True)\n",
    "Data.drop(['DATE  EFFECTIVE DE LA VISITE'],axis=1, inplace=True)\n",
    "Data.drop(['DATE DE VISITE PRECEDENTE'],axis=1, inplace=True)\n",
    "\n",
    "Data.drop(['Months'],axis=1, inplace=True)\n",
    "Data.drop(['Cluster'],axis=1, inplace=True)\n",
    "Data.drop(['Site Name'],axis=1, inplace=True)\n",
    "Data.drop(['Generator 1capacity (KVA)'],axis=1, inplace=True)\n",
    "\n",
    "Data.drop(['COMPTEUR HORAIRE ACTUEL GE1'],axis=1, inplace=True)\n",
    "Data.drop(['QTE FUEL AJOUTEE'],axis=1, inplace=True)\n"
   ]
  },
  {
   "cell_type": "code",
   "execution_count": 10,
   "metadata": {
    "collapsed": false
   },
   "outputs": [],
   "source": [
    "\n",
    "Data['Running time per day'] = Data[\"NBRE HEURES DE FONCTIONNEMENT DG1\"]/Data[\"NBRE DE JOUR\"]             \n",
    "Data.loc[~np.isfinite(Data['Running time per day']), 'Running time per day'] = 0\n",
    "set_printoptions(precision=3)"
   ]
  },
  {
   "cell_type": "code",
   "execution_count": 11,
   "metadata": {
    "collapsed": false
   },
   "outputs": [],
   "source": [
    "Data['Maximum_consumption_perDay'] = Data[['CONSOMMATION HORAIRE DE FUEL DG1']]*24\n",
    "set_printoptions(precision=3)"
   ]
  },
  {
   "cell_type": "markdown",
   "metadata": {
    "collapsed": false
   },
   "source": [
    "maximum consumption in one day\n",
    "fuel consumed per period difference netween the fuel found and previously left\n",
    "comparison of the difference with running time.\n",
    "Generator running for more than 24 hourse in a day\n"
   ]
  },
  {
   "cell_type": "code",
   "execution_count": 12,
   "metadata": {
    "collapsed": true
   },
   "outputs": [],
   "source": [
    "a = list(Data['NBRE HEURES DE FONCTIONNEMENT DG1'])\n",
    "b = list(Data['Quanitity_consumed_btn_visits'])"
   ]
  },
  {
   "cell_type": "code",
   "execution_count": 63,
   "metadata": {
    "collapsed": true
   },
   "outputs": [],
   "source": [
    "c = []\n",
    "for i in range(len(a)):\n",
    "    if a[i] == 0  and  b[i]!=0:\n",
    "        c.append(0)\n",
    "    else:\n",
    "        c.append(1)"
   ]
  },
  {
   "cell_type": "code",
   "execution_count": null,
   "metadata": {
    "collapsed": false
   },
   "outputs": [],
   "source": []
  },
  {
   "cell_type": "code",
   "execution_count": 14,
   "metadata": {
    "collapsed": false
   },
   "outputs": [],
   "source": [
    "t = list(Data['Maximum_consumption_perDay'])\n",
    "r = list (Data['consumption_perDay_within_a_period'])"
   ]
  },
  {
   "cell_type": "code",
   "execution_count": 15,
   "metadata": {
    "collapsed": true
   },
   "outputs": [],
   "source": [
    "z = []\n",
    "for i in range(len(r)):\n",
    "    if r[i] > t[i]:\n",
    "        z.append(0)\n",
    "    else:\n",
    "        z.append(1)"
   ]
  },
  {
   "cell_type": "code",
   "execution_count": 16,
   "metadata": {
    "collapsed": false
   },
   "outputs": [],
   "source": [
    "p = []\n",
    "for i in range(len(z)):\n",
    "    if c[i]==1 and z[i]==1:\n",
    "        p.append(1)\n",
    "    else:\n",
    "        p.append(0)     "
   ]
  },
  {
   "cell_type": "code",
   "execution_count": 17,
   "metadata": {
    "collapsed": false
   },
   "outputs": [],
   "source": [
    "Data['Class'] = p\n"
   ]
  },
  {
   "cell_type": "code",
   "execution_count": 18,
   "metadata": {
    "collapsed": false
   },
   "outputs": [],
   "source": [
    "Data.drop(['QTE TOTALE LAISSEE'],axis=1, inplace=True)\n",
    "#Data.drop(['Consumption HIS'],axis=1, inplace=True)\n",
    "Data.drop(['QTE FUEL PRECEDENTE'],axis=1, inplace=True)\n",
    "Data.drop(['QTE FUEL TROUVEE'],axis=1, inplace=True)\n",
    "#Data.drop(['NBRE HEURES DE FONCTIONNEMENT DG1'],axis=1, inplace=True)\n",
    "#Data.drop(['CONSOMMATION HORAIRE DE FUEL DG1'],axis=1, inplace=True)\n",
    "Data.drop(['NBRE DE JOUR'],axis=1, inplace=True)\n",
    "#Data.drop(['consumption_perDay_within_a_period'],axis=1, inplace=True)\n",
    "Data.drop(['Maximum_consumption_perDay'],axis=1, inplace=True)\n",
    "Data.drop(['Quanitity_consumed_btn_visits'],axis=1, inplace=True)"
   ]
  },
  {
   "cell_type": "markdown",
   "metadata": {
    "collapsed": false
   },
   "source": [
    "With five key variable that influence the consuption from the dataset. That is the total consumed in a period(Consumption HIS), the total number of hours the generator is running (NBRE HEURES DE FONCTIONNEMENT DG1), the rate at which the generator is consuming per hour (CONSOMMATION HORAIRE DE FUEL DG1) , the consumption per day(consumption_perDay_within_a_period) and   number of hours the generator is running per day(Running time per day)."
   ]
  },
  {
   "cell_type": "code",
   "execution_count": 20,
   "metadata": {
    "collapsed": false
   },
   "outputs": [
    {
     "data": {
      "text/plain": [
       "Index(['Consumption HIS', 'NBRE HEURES DE FONCTIONNEMENT DG1',\n",
       "       'CONSOMMATION HORAIRE DE FUEL DG1',\n",
       "       'consumption_perDay_within_a_period', 'Running time per day', 'Class'],\n",
       "      dtype='object')"
      ]
     },
     "execution_count": 20,
     "metadata": {},
     "output_type": "execute_result"
    }
   ],
   "source": [
    "Data.columns"
   ]
  },
  {
   "cell_type": "code",
   "execution_count": 26,
   "metadata": {
    "collapsed": false
   },
   "outputs": [
    {
     "name": "stdout",
     "output_type": "stream",
     "text": [
      "(2676, 5)\n",
      "(2676,)\n",
      "(536, 5)\n",
      "(2140, 5)\n",
      "(536,)\n",
      "(2140,)\n"
     ]
    }
   ],
   "source": [
    "x = Data.loc[:,Data.columns.tolist()[0:5]]\n",
    "w = x.as_matrix()\n",
    "Y = Data.loc[:,'Class']\n",
    "Y = Y.as_matrix()\n",
    "\n",
    "x_train,x_test,y_train,y_test = train_test_split(w,Y,test_size=0.20,random_state=0)\n",
    "scaler = StandardScaler()\n",
    "scaler.fit(x_train)\n",
    "x_train = scaler.transform(x_train)\n",
    "x_test = scaler.transform(x_test) \n",
    "print(x.shape)\n",
    "print(Y.shape)\n",
    "print(x_test.shape)\n",
    "print( x_train.shape)\n",
    "print( y_test.shape)\n",
    "print(y_train.shape)"
   ]
  },
  {
   "cell_type": "code",
   "execution_count": null,
   "metadata": {
    "collapsed": false
   },
   "outputs": [],
   "source": []
  },
  {
   "cell_type": "code",
   "execution_count": 22,
   "metadata": {
    "collapsed": false
   },
   "outputs": [
    {
     "data": {
      "text/html": [
       "<div>\n",
       "<style scoped>\n",
       "    .dataframe tbody tr th:only-of-type {\n",
       "        vertical-align: middle;\n",
       "    }\n",
       "\n",
       "    .dataframe tbody tr th {\n",
       "        vertical-align: top;\n",
       "    }\n",
       "\n",
       "    .dataframe thead th {\n",
       "        text-align: right;\n",
       "    }\n",
       "</style>\n",
       "<table border=\"1\" class=\"dataframe\">\n",
       "  <thead>\n",
       "    <tr style=\"text-align: right;\">\n",
       "      <th></th>\n",
       "      <th>Consumption HIS</th>\n",
       "      <th>NBRE HEURES DE FONCTIONNEMENT DG1</th>\n",
       "      <th>CONSOMMATION HORAIRE DE FUEL DG1</th>\n",
       "      <th>consumption_perDay_within_a_period</th>\n",
       "      <th>Running time per day</th>\n",
       "      <th>Class</th>\n",
       "    </tr>\n",
       "  </thead>\n",
       "  <tbody>\n",
       "    <tr>\n",
       "      <th>0</th>\n",
       "      <td>420.0</td>\n",
       "      <td>140.0</td>\n",
       "      <td>3.0</td>\n",
       "      <td>70.0</td>\n",
       "      <td>23.333333</td>\n",
       "      <td>1</td>\n",
       "    </tr>\n",
       "    <tr>\n",
       "      <th>1</th>\n",
       "      <td>254.8</td>\n",
       "      <td>98.0</td>\n",
       "      <td>2.6</td>\n",
       "      <td>63.7</td>\n",
       "      <td>24.500000</td>\n",
       "      <td>0</td>\n",
       "    </tr>\n",
       "  </tbody>\n",
       "</table>\n",
       "</div>"
      ],
      "text/plain": [
       "   Consumption HIS  NBRE HEURES DE FONCTIONNEMENT DG1  \\\n",
       "0            420.0                              140.0   \n",
       "1            254.8                               98.0   \n",
       "\n",
       "   CONSOMMATION HORAIRE DE FUEL DG1  consumption_perDay_within_a_period  \\\n",
       "0                               3.0                                70.0   \n",
       "1                               2.6                                63.7   \n",
       "\n",
       "   Running time per day  Class  \n",
       "0             23.333333      1  \n",
       "1             24.500000      0  "
      ]
     },
     "execution_count": 22,
     "metadata": {},
     "output_type": "execute_result"
    }
   ],
   "source": [
    "Data.head(2)"
   ]
  },
  {
   "cell_type": "code",
   "execution_count": 23,
   "metadata": {
    "collapsed": false
   },
   "outputs": [],
   "source": [
    "# FUNCTION FOR TRAINING THE MODEL\n",
    "def trainmodel(model):\n",
    "    model.fit(x_train,y_train)\n",
    "# FUNCTION TO MAKE PREDICTIONS\n",
    "\n",
    "def predictmodel(model):\n",
    "    y_pred = model.predict(x_test)\n",
    "    f,t,thresholds = metrics.roc_curve(y_test,y_pred)\n",
    "    cm = metrics.confusion_matrix(y_test,y_pred)\n",
    "    print(\"Score:\", metrics.auc(f,t))\n",
    "    print(\"Classification report:\")\n",
    "    print(metrics.classification_report(y_test,y_pred))\n",
    "    print(\"Confusion Matrix:\")\n",
    "    print(cm)\n",
    "def predictmodeln(model):\n",
    "    y_pred = model.predict(x_test)\n",
    "    f,t,thresholds = metrics.roc_curve(y_test,y_pred)\n",
    "    cm = metrics.confusion_matrix(y_test,y_pred)\n",
    "    print(\"Score:\", metrics.auc(f,t))\n",
    "    print(\"Classification report:\")\n",
    "    print(metrics.classification_report(y_test,y_pred))\n",
    "    print(\"Confusion Matrix:\")\n",
    "    print(cm)"
   ]
  },
  {
   "cell_type": "markdown",
   "metadata": {
    "collapsed": false
   },
   "source": [
    " Using the decision function ovo or ovr both have the same accuracy when  C and gamma are the same in all the case.\n",
    " With parameter C= 1 and gamma =0.1 we have a score 75%"
   ]
  },
  {
   "cell_type": "code",
   "execution_count": 62,
   "metadata": {
    "collapsed": false
   },
   "outputs": [
    {
     "name": "stdout",
     "output_type": "stream",
     "text": [
      "Score: 0.7509630054834665\n",
      "Classification report:\n",
      "             precision    recall  f1-score   support\n",
      "\n",
      "          0       0.86      0.55      0.67       193\n",
      "          1       0.79      0.95      0.86       343\n",
      "\n",
      "avg / total       0.81      0.81      0.79       536\n",
      "\n",
      "Confusion Matrix:\n",
      "[[107  86]\n",
      " [ 18 325]]\n"
     ]
    },
    {
     "data": {
      "text/plain": [
       "array([1, 1, 1, ..., 1, 1, 1])"
      ]
     },
     "execution_count": 62,
     "metadata": {},
     "output_type": "execute_result"
    }
   ],
   "source": [
    "SVM =SVC(kernel=\"rbf\", C=1, gamma =0.1, decision_function_shape='ovo')\n",
    "SVM.fit(x_train , y_train)\n",
    "predictmodel(SVM)\n",
    "SVM.predict(x_train)"
   ]
  },
  {
   "cell_type": "code",
   "execution_count": null,
   "metadata": {
    "collapsed": false
   },
   "outputs": [],
   "source": []
  },
  {
   "cell_type": "markdown",
   "metadata": {},
   "source": [
    "With parameter C= 10 and gamma =0.1 we have a score 88%"
   ]
  },
  {
   "cell_type": "code",
   "execution_count": 48,
   "metadata": {
    "collapsed": false
   },
   "outputs": [
    {
     "name": "stdout",
     "output_type": "stream",
     "text": [
      "Score: 0.8840616927748154\n",
      "Classification report:\n",
      "             precision    recall  f1-score   support\n",
      "\n",
      "          0       0.93      0.80      0.86       193\n",
      "          1       0.90      0.97      0.93       343\n",
      "\n",
      "avg / total       0.91      0.91      0.91       536\n",
      "\n",
      "Confusion Matrix:\n",
      "[[155  38]\n",
      " [ 12 331]]\n"
     ]
    }
   ],
   "source": [
    "\n",
    "SVM =SVC(kernel=\"rbf\", C=10, gamma = 0.1, decision_function_shape='ovr')\n",
    "SVM.fit(x_train , y_train)\n",
    "predictmodel(SVM)"
   ]
  },
  {
   "cell_type": "markdown",
   "metadata": {},
   "source": [
    "With parameter C= 1 and gamma =1 we have a score 84%"
   ]
  },
  {
   "cell_type": "code",
   "execution_count": 49,
   "metadata": {
    "collapsed": false
   },
   "outputs": [
    {
     "name": "stdout",
     "output_type": "stream",
     "text": [
      "Score: 0.843094306560522\n",
      "Classification report:\n",
      "             precision    recall  f1-score   support\n",
      "\n",
      "          0       0.89      0.74      0.81       193\n",
      "          1       0.86      0.95      0.91       343\n",
      "\n",
      "avg / total       0.87      0.87      0.87       536\n",
      "\n",
      "Confusion Matrix:\n",
      "[[142  51]\n",
      " [ 17 326]]\n"
     ]
    }
   ],
   "source": [
    "\n",
    "SVM =SVC(kernel=\"rbf\", C=1, gamma =1, decision_function_shape='ovr')\n",
    "SVM.fit(x_train , y_train)\n",
    "predictmodel(SVM)"
   ]
  },
  {
   "cell_type": "markdown",
   "metadata": {},
   "source": [
    "With parameter C= 0.01 and gamma =1 we have a score 50%"
   ]
  },
  {
   "cell_type": "code",
   "execution_count": 52,
   "metadata": {
    "collapsed": false
   },
   "outputs": [
    {
     "name": "stdout",
     "output_type": "stream",
     "text": [
      "Score: 0.5\n",
      "Classification report:\n",
      "             precision    recall  f1-score   support\n",
      "\n",
      "          0       0.00      0.00      0.00       193\n",
      "          1       0.64      1.00      0.78       343\n",
      "\n",
      "avg / total       0.41      0.64      0.50       536\n",
      "\n",
      "Confusion Matrix:\n",
      "[[  0 193]\n",
      " [  0 343]]\n"
     ]
    },
    {
     "data": {
      "text/plain": [
       "array([1, 1, 1, ..., 1, 1, 1])"
      ]
     },
     "execution_count": 52,
     "metadata": {},
     "output_type": "execute_result"
    }
   ],
   "source": [
    "\n",
    "SVM =SVC(kernel=\"rbf\", C=0.01, gamma =1, decision_function_shape='ovr')\n",
    "SVM.fit(x_train , y_train)\n",
    "predictmodel(SVM)\n",
    "SVM.predict(x_train)"
   ]
  },
  {
   "cell_type": "markdown",
   "metadata": {
    "collapsed": false
   },
   "source": [
    "Using the kford cross validation method to validate the performance of the algorithm , we have 63.35%"
   ]
  },
  {
   "cell_type": "code",
   "execution_count": 51,
   "metadata": {
    "collapsed": false
   },
   "outputs": [
    {
     "name": "stdout",
     "output_type": "stream",
     "text": [
      "Accuracy: 63.353% (10.530%)\n"
     ]
    }
   ],
   "source": [
    "from sklearn.model_selection import KFold\n",
    "from sklearn.model_selection import cross_val_score\n",
    "array = Data.values\n",
    "X = array[:,0:5]\n",
    "Y = array[:,5]\n",
    "num_folds = 100\n",
    "seed = 7\n",
    "kfold = KFold(n_splits=num_folds, random_state=seed)\n",
    "\n",
    "results = cross_val_score(SVM, X, Y, cv=kfold)\n",
    "results\n",
    "print(\"Accuracy: %.3f%% (%.3f%%)\" % (results.mean()*100.0, results.std()*100.0))"
   ]
  },
  {
   "cell_type": "code",
   "execution_count": null,
   "metadata": {
    "collapsed": false
   },
   "outputs": [],
   "source": []
  },
  {
   "cell_type": "code",
   "execution_count": null,
   "metadata": {
    "collapsed": false
   },
   "outputs": [],
   "source": []
  },
  {
   "cell_type": "code",
   "execution_count": null,
   "metadata": {
    "collapsed": false
   },
   "outputs": [],
   "source": []
  },
  {
   "cell_type": "code",
   "execution_count": null,
   "metadata": {
    "collapsed": false
   },
   "outputs": [],
   "source": []
  },
  {
   "cell_type": "code",
   "execution_count": null,
   "metadata": {
    "collapsed": false
   },
   "outputs": [],
   "source": []
  },
  {
   "cell_type": "code",
   "execution_count": null,
   "metadata": {
    "collapsed": true
   },
   "outputs": [],
   "source": []
  },
  {
   "cell_type": "code",
   "execution_count": null,
   "metadata": {
    "collapsed": false
   },
   "outputs": [],
   "source": []
  },
  {
   "cell_type": "code",
   "execution_count": null,
   "metadata": {
    "collapsed": false
   },
   "outputs": [],
   "source": []
  }
 ],
 "metadata": {
  "kernelspec": {
   "display_name": "Python 3",
   "language": "python",
   "name": "python3"
  },
  "language_info": {
   "codemirror_mode": {
    "name": "ipython",
    "version": 3
   },
   "file_extension": ".py",
   "mimetype": "text/x-python",
   "name": "python",
   "nbconvert_exporter": "python",
   "pygments_lexer": "ipython3",
   "version": "3.5.3"
  }
 },
 "nbformat": 4,
 "nbformat_minor": 2
}
